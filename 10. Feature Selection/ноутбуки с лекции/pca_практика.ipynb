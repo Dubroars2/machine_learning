{
 "cells": [
  {
   "cell_type": "code",
   "execution_count": 2,
   "metadata": {
    "id": "qQyffSwyrsZl"
   },
   "outputs": [],
   "source": [
    "import numpy as np\n",
    "import pandas as pd\n",
    "import seaborn as sns\n",
    "from matplotlib import pyplot as plt"
   ]
  },
  {
   "cell_type": "code",
   "execution_count": 3,
   "metadata": {
    "colab": {
     "base_uri": "https://localhost:8080/"
    },
    "id": "Lmb_GVNcrsZs",
    "outputId": "73a317d9-1dc3-4632-ed05-345c2e73d84b"
   },
   "outputs": [
    {
     "name": "stdout",
     "output_type": "stream",
     "text": [
      "Мы получили 10 объектов с 2 признаками\n",
      "[[ 101.75571146  199.48536483]\n",
      " [ 201.74779296  401.98054242]\n",
      " [ 300.43005022  598.1123622 ]\n",
      " [ 400.33973941  793.57163019]\n",
      " [ 503.46209035 1004.28756469]\n",
      " [ 620.76420767 1247.0770984 ]\n",
      " [ 705.85691488 1425.90476059]\n",
      " [ 784.24640268 1562.60723449]\n",
      " [ 893.53181138 1787.74301034]\n",
      " [1014.5045518  2033.63569967]]\n"
     ]
    }
   ],
   "source": [
    "#Генерим случайные данные\n",
    "x = np.arange(1,11) * (100 + np.random.randn(10))\n",
    "y = 2 * x + np.random.randn(10)*5\n",
    "X = np.vstack((x,y))\n",
    "print('Мы получили 10 объектов с 2 признаками')\n",
    "print(np.transpose(X))"
   ]
  },
  {
   "cell_type": "code",
   "execution_count": null,
   "metadata": {},
   "outputs": [],
   "source": [
    "#Посчитаем прям вручную наше РСА преобразование "
   ]
  },
  {
   "cell_type": "code",
   "execution_count": null,
   "metadata": {
    "colab": {
     "base_uri": "https://localhost:8080/",
     "height": 129
    },
    "id": "DEJqUEBp56QQ",
    "outputId": "ef364b7f-63d7-4fb8-84eb-245b83f2efe0"
   },
   "outputs": [
    {
     "name": "stdout",
     "output_type": "stream",
     "text": [
      "Матрица корреляции\n"
     ]
    },
    {
     "data": {
      "text/html": [
       "<div>\n",
       "<style scoped>\n",
       "    .dataframe tbody tr th:only-of-type {\n",
       "        vertical-align: middle;\n",
       "    }\n",
       "\n",
       "    .dataframe tbody tr th {\n",
       "        vertical-align: top;\n",
       "    }\n",
       "\n",
       "    .dataframe thead th {\n",
       "        text-align: right;\n",
       "    }\n",
       "</style>\n",
       "<table border=\"1\" class=\"dataframe\">\n",
       "  <thead>\n",
       "    <tr style=\"text-align: right;\">\n",
       "      <th></th>\n",
       "      <th>0</th>\n",
       "      <th>1</th>\n",
       "    </tr>\n",
       "  </thead>\n",
       "  <tbody>\n",
       "    <tr>\n",
       "      <th>0</th>\n",
       "      <td>1.000000</td>\n",
       "      <td>0.999965</td>\n",
       "    </tr>\n",
       "    <tr>\n",
       "      <th>1</th>\n",
       "      <td>0.999965</td>\n",
       "      <td>1.000000</td>\n",
       "    </tr>\n",
       "  </tbody>\n",
       "</table>\n",
       "</div>"
      ],
      "text/plain": [
       "          0         1\n",
       "0  1.000000  0.999965\n",
       "1  0.999965  1.000000"
      ]
     },
     "execution_count": 4,
     "metadata": {
      "tags": []
     },
     "output_type": "execute_result"
    }
   ],
   "source": [
    "print('Матрица корреляции')\n",
    "pd.DataFrame(np.transpose(X)).corr()"
   ]
  },
  {
   "cell_type": "code",
   "execution_count": 8,
   "metadata": {
    "colab": {
     "base_uri": "https://localhost:8080/"
    },
    "id": "3-4sAimxrsZu",
    "outputId": "ea2784fc-23ce-4ec6-bfd1-2bd0ec6c4555"
   },
   "outputs": [
    {
     "name": "stdout",
     "output_type": "stream",
     "text": [
      "Отцентрованные признаки\n",
      "[[-450.90821582 -905.95516195]\n",
      " [-350.91613432 -703.45998436]\n",
      " [-252.23387706 -507.32816459]\n",
      " [-152.32418787 -311.86889659]\n",
      " [ -49.20183693 -101.1529621 ]\n",
      " [  68.10028039  141.63657162]\n",
      " [ 153.1929876   320.4642338 ]\n",
      " [ 231.5824754   457.16670771]\n",
      " [ 340.8678841   682.30248356]\n",
      " [ 461.84062452  928.19517289]]\n",
      "Mean vector:  (552.6639272806249, 1105.4405267822312)\n"
     ]
    }
   ],
   "source": [
    "#отцентрируем наши даннеы, чтобы наше мат ожидание равнялось 0\n",
    "\n",
    "Xcentered = (X[0] - x.mean(), X[1] - y.mean())\n",
    "#берем 1-й признак и вычитаем из него среднее первого признака и потом вычитаем ср значение второго признака \n",
    "\n",
    "m = (x.mean(), y.mean())\n",
    "print('Отцентрованные признаки')\n",
    "print(np.transpose(Xcentered))\n",
    "print(\"Mean vector: \", m)\n",
    "#Вектор нашего мат ожидания "
   ]
  },
  {
   "cell_type": "code",
   "execution_count": 9,
   "metadata": {
    "colab": {
     "base_uri": "https://localhost:8080/"
    },
    "id": "QvYJw9yDrsZv",
    "outputId": "20fdc8a3-c36a-4343-813d-534607133542"
   },
   "outputs": [
    {
     "name": "stdout",
     "output_type": "stream",
     "text": [
      "Матрица ковариации\n",
      "[[ 91881.06883824 184629.88061921]\n",
      " [184629.88061921 371036.58914346]] \n",
      "\n",
      "Variance of X:  91881.06883823659\n",
      "Variance of Y:  371036.58914345864\n",
      "Covariance X and Y:  184629.88061920617\n"
     ]
    }
   ],
   "source": [
    "covmat = np.cov(Xcentered) \n",
    "# Просчет матрици ковариации\n",
    "print('Матрица ковариации')\n",
    "print(covmat, \"\\n\")\n",
    "print(\"Variance of X: \", np.cov(Xcentered)[0,0]) #Дисперсия 1-го признака\n",
    "print(\"Variance of Y: \", np.cov(Xcentered)[1,1]) #Диспервсия 2-го признака\n",
    "print(\"Covariance X and Y: \", np.cov(Xcentered)[0,1]) #Ковариация между ними"
   ]
  },
  {
   "cell_type": "code",
   "execution_count": 10,
   "metadata": {
    "colab": {
     "base_uri": "https://localhost:8080/"
    },
    "id": "gSEMfCEvrsZw",
    "outputId": "4bcccb15-bce1-4b66-9d09-c334944440c1"
   },
   "outputs": [
    {
     "name": "stdout",
     "output_type": "stream",
     "text": [
      "Матрица собственных векторов:\n",
      "[[-0.89527987 -0.44550417]\n",
      " [ 0.44550417 -0.89527987]]\n",
      " Собственные числа:\n",
      "[6.57917097e+00 4.62911079e+05]\n",
      "\n",
      "------------------------------\n",
      "Так как второе собственное число гораздо больше первого,\n",
      "то для преобразования берем второй вектор:\n",
      "[-0.44550417 -0.89527987]\n",
      "\n",
      "------------------------------\n",
      "Преобразованные данные:\n",
      " [[ 1011.96490443]\n",
      " [  786.12816014]\n",
      " [  566.57193414]\n",
      " [  347.07100416]\n",
      " [  112.47983366]\n",
      " [ -157.14332945]\n",
      " [ -355.15329041]\n",
      " [ -512.46310627]\n",
      " [ -762.70973833]\n",
      " [-1036.74637206]]\n"
     ]
    }
   ],
   "source": [
    "#разложим нашу матрицу ковариации на собственные числа и векотора\n",
    "\n",
    "le, vecs = np.linalg.eig(covmat)\n",
    "# np.linalg.eig для разложения на собственныне числа и вектора \n",
    "v = vecs[:,1] \n",
    "# Берем 1 собственный вектор, для того, чтобы преобразовать наши данные   \n",
    "Xnew = np.dot(np.transpose(Xcentered), v)\n",
    "print(f'Матрица собственных векторов:\\n{vecs}\\n Собственные числа:\\n{le}')\n",
    "print(\"\".join(['\\n']+[\"-\" for x in range(30)]))\n",
    "print(f'Так как второе собственное число гораздо больше первого,\\nто для преобразования берем второй вектор:\\n{v}')\n",
    "print(\"\".join(['\\n']+[\"-\" for x in range(30)]))\n",
    "print(f'Преобразованные данные:\\n {np.transpose(Xnew).reshape(-1,1)}')"
   ]
  },
  {
   "cell_type": "code",
   "execution_count": null,
   "metadata": {
    "colab": {
     "base_uri": "https://localhost:8080/",
     "height": 147
    },
    "id": "D5BZnQwDLeWQ",
    "outputId": "6c3ae8c7-571c-4ebc-dc1a-f9c424af7637"
   },
   "outputs": [
    {
     "name": "stdout",
     "output_type": "stream",
     "text": [
      "Как видно, матрица корреляции диагональна\n",
      "и корреляция между признаками практически равна нулю\n"
     ]
    },
    {
     "data": {
      "text/html": [
       "<div>\n",
       "<style scoped>\n",
       "    .dataframe tbody tr th:only-of-type {\n",
       "        vertical-align: middle;\n",
       "    }\n",
       "\n",
       "    .dataframe tbody tr th {\n",
       "        vertical-align: top;\n",
       "    }\n",
       "\n",
       "    .dataframe thead th {\n",
       "        text-align: right;\n",
       "    }\n",
       "</style>\n",
       "<table border=\"1\" class=\"dataframe\">\n",
       "  <thead>\n",
       "    <tr style=\"text-align: right;\">\n",
       "      <th></th>\n",
       "      <th>0</th>\n",
       "      <th>1</th>\n",
       "    </tr>\n",
       "  </thead>\n",
       "  <tbody>\n",
       "    <tr>\n",
       "      <th>0</th>\n",
       "      <td>1.000000e+00</td>\n",
       "      <td>8.985252e-16</td>\n",
       "    </tr>\n",
       "    <tr>\n",
       "      <th>1</th>\n",
       "      <td>8.985252e-16</td>\n",
       "      <td>1.000000e+00</td>\n",
       "    </tr>\n",
       "  </tbody>\n",
       "</table>\n",
       "</div>"
      ],
      "text/plain": [
       "              0             1\n",
       "0  1.000000e+00  8.985252e-16\n",
       "1  8.985252e-16  1.000000e+00"
      ]
     },
     "execution_count": 8,
     "metadata": {
      "tags": []
     },
     "output_type": "execute_result"
    }
   ],
   "source": [
    "print( 'Как видно, матрица корреляции диагональна\\nи корреляция между признаками практически равна нулю')\n",
    "pd.DataFrame(np.dot(np.transpose(Xcentered), vecs)).corr()\n",
    "#Этого мы и хотели, чтобы наши преобразованнеы новые данные не имеля корреляцию "
   ]
  },
  {
   "cell_type": "code",
   "execution_count": null,
   "metadata": {},
   "outputs": [],
   "source": [
    "#Мы некоторые данные потеряли, так как отбросили один из собственных векторов"
   ]
  },
  {
   "cell_type": "code",
   "execution_count": 13,
   "metadata": {
    "colab": {
     "base_uri": "https://localhost:8080/"
    },
    "id": "ZJVyFnmXrsZx",
    "outputId": "f6b43951-9433-419e-b6b7-4cc2c5159df2"
   },
   "outputs": [
    {
     "name": "stdout",
     "output_type": "stream",
     "text": [
      "Восстановим элементы\n",
      "Restored:  [101.82934742 199.44872252] : original:  [101.75571146 199.48536483]\n",
      "Restored:  [202.44055763 401.63581274] : original:  [201.74779296 401.98054242]\n",
      "Restored:  [300.25377079 598.20008138] : original:  [300.43005022 598.1123622 ]\n",
      "Restored:  [398.04234934 794.7148446 ] : original:  [400.33973941 793.57163019]\n",
      "Restored:  [ 502.5536929  1004.73959635] : original:  [ 503.46209035 1004.28756469]\n",
      "Restored:  [ 622.67193507 1246.12778575] : original:  [ 620.76420767 1247.0770984 ]\n",
      "Restored:  [ 710.88619741 1423.40211711] : original:  [ 705.85691488 1425.90476059]\n",
      "Restored:  [ 780.96837559 1564.23842801] : original:  [ 784.24640268 1562.60723449]\n",
      "Restored:  [ 892.45429247 1788.27919928] : original:  [ 893.53181138 1787.74301034]\n",
      "Restored:  [1014.53875419 2033.61868007] : original:  [1014.5045518  2033.63569967]\n"
     ]
    }
   ],
   "source": [
    "#Делаем обратное преобразование\n",
    "#Берем вектор, который мы использовали для преобразования, используем его для новых данных и \n",
    "#прибавляем к нем соответствеющее среднее значение\n",
    "print('Восстановим элементы')\n",
    "_= [print('Restored: ', (np.dot(Xnew[i],v) + m),': original: ', X[:,i]) for i in range(len(Xnew))]\n",
    "#Первый столбик новые данные, второй оригинальные"
   ]
  },
  {
   "cell_type": "code",
   "execution_count": 14,
   "metadata": {
    "id": "V0KZJ1xKrsZy"
   },
   "outputs": [],
   "source": [
    "#Теперь посчитаем не вручную, а встроенной функцией\n",
    "\n",
    "from sklearn.decomposition import PCA\n",
    "\n",
    "pca = PCA(n_components = 1)\n",
    "#Создаем объект РСА, который приводит наши данные к 1 компаненте \n",
    "XPCAreduced = pca.fit_transform(X.T)\n",
    "#используем метод fit_transform на наших данных, который возвращает нам новое представление данных "
   ]
  },
  {
   "cell_type": "code",
   "execution_count": 15,
   "metadata": {
    "colab": {
     "base_uri": "https://localhost:8080/"
    },
    "id": "yeRfOamQ2unV",
    "outputId": "782b46fe-2d7f-4417-f8a4-256ffafcdcc6"
   },
   "outputs": [
    {
     "data": {
      "text/plain": [
       "array([[-1011.96490443],\n",
       "       [ -786.12816014],\n",
       "       [ -566.57193414],\n",
       "       [ -347.07100416],\n",
       "       [ -112.47983366],\n",
       "       [  157.14332945],\n",
       "       [  355.15329041],\n",
       "       [  512.46310627],\n",
       "       [  762.70973833],\n",
       "       [ 1036.74637206]])"
      ]
     },
     "execution_count": 15,
     "metadata": {},
     "output_type": "execute_result"
    }
   ],
   "source": [
    "XPCAreduced"
   ]
  },
  {
   "cell_type": "code",
   "execution_count": null,
   "metadata": {
    "id": "sGMjmlh1jigE"
   },
   "outputs": [],
   "source": [
    "#Обратите внимание что при использовании PCA собственный вектор \n",
    "#используется со знаком минус этот момент разрешен так как любая \n",
    "#линейная комбинация собственных векторов x1, x2, ..., xm, \n",
    "#отвечающих одному и тому же собственному числу λ, является собственным \n",
    "#вектором с тем же собственным числом."
   ]
  },
  {
   "cell_type": "code",
   "execution_count": 16,
   "metadata": {
    "colab": {
     "base_uri": "https://localhost:8080/"
    },
    "id": "ZIDaiPNlrsZy",
    "outputId": "3809cac4-d32c-4a17-8fa8-ae020ccaf0de"
   },
   "outputs": [
    {
     "name": "stdout",
     "output_type": "stream",
     "text": [
      "1011.964904426594 - 1011.9649044265941 = -1.1368683772161603e-13\n",
      "786.1281601361918 - 786.1281601361918 = 0.0\n",
      "566.5719341365657 - 566.5719341365656 = 1.1368683772161603e-13\n",
      "347.0710041644786 - 347.0710041644786 = 0.0\n",
      "112.4798336568708 - 112.4798336568708 = 0.0\n",
      "157.1433294504109 - 157.14332945041087 = 2.842170943040401e-14\n",
      "355.15329041345655 - 355.15329041345655 = 0.0\n",
      "512.463106274912 - 512.463106274912 = 0.0\n",
      "762.7097383256767 - 762.7097383256768 = -1.1368683772161603e-13\n",
      "1036.7463720562448 - 1036.7463720562448 = 0.0\n"
     ]
    }
   ],
   "source": [
    "#Разница между тем, что мы сделали вручную и встроенной функцией практически равна 0\n",
    "\n",
    "\n",
    "for xn, x_pca in zip(Xnew, XPCAreduced):\n",
    "    print(np.abs(xn), '-', np.abs(x_pca[0]), '=', np.abs(xn) - np.abs(x_pca[0]))"
   ]
  },
  {
   "cell_type": "code",
   "execution_count": null,
   "metadata": {
    "colab": {
     "base_uri": "https://localhost:8080/"
    },
    "id": "DKA92G8_vzrh",
    "outputId": "0a4107f7-6270-4080-b725-6d1c0a559258"
   },
   "outputs": [
    {
     "data": {
      "text/plain": [
       "array([[ 102.0261558 ,  206.95684329],\n",
       "       [ 196.40369248,  395.17033941],\n",
       "       [ 296.8161551 ,  595.41905654],\n",
       "       [ 400.92814152,  803.04559186],\n",
       "       [ 495.61520249,  991.87636039],\n",
       "       [ 601.01612617, 1202.07337378],\n",
       "       [ 710.89452385, 1421.19964157],\n",
       "       [ 803.49478787, 1605.86879111],\n",
       "       [ 901.41968878, 1801.15665947],\n",
       "       [ 989.79140342, 1977.3929754 ]])"
      ]
     },
     "execution_count": 14,
     "metadata": {
      "tags": []
     },
     "output_type": "execute_result"
    }
   ],
   "source": [
    "#Восстанавлиеваем наши данные \n",
    "pca.inverse_transform(XPCAreduced)"
   ]
  },
  {
   "cell_type": "code",
   "execution_count": null,
   "metadata": {
    "colab": {
     "base_uri": "https://localhost:8080/"
    },
    "id": "mbO19Uwlv5DW",
    "outputId": "2b6b9560-c5f3-4075-e5cb-6721c04c1306"
   },
   "outputs": [
    {
     "name": "stdout",
     "output_type": "stream",
     "text": [
      "Восстановим элементы\n",
      "Restored:  [102.0261558  206.95684329] : original:  [ 98.96062377 208.49401978]\n",
      "Restored:  [196.40369248 395.17033941] : original:  [197.71106274 394.51477332]\n",
      "Restored:  [296.8161551  595.41905654] : original:  [300.56789197 593.53779036]\n",
      "Restored:  [400.92814152 803.04559186] : original:  [399.99347248 803.51427112]\n",
      "Restored:  [495.61520249 991.87636039] : original:  [494.05957612 992.6564117 ]\n",
      "Restored:  [ 601.01612617 1202.07337378] : original:  [ 600.42154795 1202.37151833]\n",
      "Restored:  [ 710.89452385 1421.19964157] : original:  [ 713.38001612 1419.95331948]\n",
      "Restored:  [ 803.49478787 1605.86879111] : original:  [ 803.74484888 1605.74340083]\n",
      "Restored:  [ 901.41968878 1801.15665947] : original:  [ 900.23019119 1801.75311964]\n",
      "Restored:  [ 989.79140342 1977.3929754 ] : original:  [ 989.33664626 1977.62100825]\n"
     ]
    }
   ],
   "source": [
    "#Посмотрим, какие были и какие стали \n",
    "#Восстановлени произошло достаточно близко к исходных данным \n",
    "print('Восстановим элементы')\n",
    "_= [print('Restored: ', (pca.inverse_transform(XPCAreduced)[i]),': original: ', X[:,i]) for i in range(len(Xnew))]"
   ]
  },
  {
   "cell_type": "code",
   "execution_count": null,
   "metadata": {
    "colab": {
     "base_uri": "https://localhost:8080/"
    },
    "id": "C6jyIfmGNcng",
    "outputId": "993300a7-720f-4de6-9427-fd86100098de"
   },
   "outputs": [
    {
     "data": {
      "text/plain": [
       "array([0.99998881])"
      ]
     },
     "execution_count": 17,
     "metadata": {
      "tags": []
     },
     "output_type": "execute_result"
    }
   ],
   "source": [
    "#можно посмотреть долю покрытой дисперсии данных\n",
    "#Показатель почти 1, значит практически все данные хранились в одном из признаков \n",
    "pca.explained_variance_ratio_"
   ]
  },
  {
   "cell_type": "code",
   "execution_count": null,
   "metadata": {
    "id": "1qpuDaVF4Oov"
   },
   "outputs": [],
   "source": []
  }
 ],
 "metadata": {
  "colab": {
   "collapsed_sections": [],
   "name": "pca_практика.ipynb",
   "provenance": []
  },
  "kernelspec": {
   "display_name": "Python 3",
   "language": "python",
   "name": "python3"
  },
  "language_info": {
   "codemirror_mode": {
    "name": "ipython",
    "version": 3
   },
   "file_extension": ".py",
   "mimetype": "text/x-python",
   "name": "python",
   "nbconvert_exporter": "python",
   "pygments_lexer": "ipython3",
   "version": "3.8.8"
  }
 },
 "nbformat": 4,
 "nbformat_minor": 1
}
