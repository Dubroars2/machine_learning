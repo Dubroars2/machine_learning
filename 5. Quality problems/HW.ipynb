{
 "cells": [
  {
   "cell_type": "code",
   "execution_count": null,
   "metadata": {},
   "outputs": [],
   "source": [
    "\"\"\"\n",
    "Необходимо запустить практическую часть занятия, и посмотреть самому то, о чём говорили на лекции. \n",
    "По образу практики, попробуйте создать искусственный датасет с лишними столбцами. \n",
    "Целевую метку, при правильной обработке данных, формируйте таким образом, чтобы без затруднений её смогла описать линейная модель. \n",
    "\n",
    "\"\"\""
   ]
  },
  {
   "cell_type": "code",
   "execution_count": 1,
   "metadata": {},
   "outputs": [],
   "source": [
    "import numpy as np\n",
    "import pandas as pd\n",
    "import matplotlib.pyplot as plt \n",
    "from sklearn.linear_model import LinearRegression\n",
    "from sklearn.metrics import mean_absolute_error\n",
    "from sklearn.model_selection import train_test_split\n",
    "from sklearn.preprocessing import StandardScaler\n",
    "from sklearn.pipeline import make_pipeline"
   ]
  },
  {
   "cell_type": "code",
   "execution_count": null,
   "metadata": {},
   "outputs": [],
   "source": [
    "#Придумываем датасет. К примеру, дальность езды на одном баке (1 бак 200 литров для всех машин)"
   ]
  },
  {
   "cell_type": "code",
   "execution_count": null,
   "metadata": {},
   "outputs": [],
   "source": [
    "#Создаем семплы (2000 экземпляров)"
   ]
  },
  {
   "cell_type": "code",
   "execution_count": 2,
   "metadata": {},
   "outputs": [],
   "source": [
    "number_of_samples = 2000"
   ]
  },
  {
   "cell_type": "code",
   "execution_count": 71,
   "metadata": {},
   "outputs": [
    {
     "data": {
      "text/plain": [
       "'\\nweight = вес машины \\nengine_capacity = объем двигателя \\nyear_production = год выпуска \\ncolor = закодированный цвет авто \\nfuel = расход топлива\\ndistance = расстояние в км на одном баке 200 литров, наша целевая переменная\\n\\n'"
      ]
     },
     "execution_count": 71,
     "metadata": {},
     "output_type": "execute_result"
    }
   ],
   "source": [
    "## придумываем признаки. \n",
    "\"\"\"\n",
    "weight = вес машины \n",
    "engine_capacity = объем двигателя \n",
    "year_production = год выпуска \n",
    "color = закодированный цвет авто \n",
    "fuel = расход топлива\n",
    "distance = расстояние в км на одном баке 200 литров, наша целевая переменная\n",
    "\n",
    "\"\"\""
   ]
  },
  {
   "cell_type": "code",
   "execution_count": 3,
   "metadata": {},
   "outputs": [],
   "source": [
    "engine_capacity_list = [1,  1.8, 2, 2.2, 2.4, 3, 3.2, 3.5, 4, 4,5.,  5, 5.5, 6, 6.3]\n",
    "engine_capacity = np.random.choice(engine_capacity_list, number_of_samples)\n",
    "weight = np.random.randint(1, 6, number_of_samples)\n",
    "color = np.random.choice(15, number_of_samples)\n",
    "year_production = np.random.randint(2000, 2022, number_of_samples)\n",
    "#distance = np.random.randint(300, 700, number_of_samples)\n"
   ]
  },
  {
   "cell_type": "code",
   "execution_count": 6,
   "metadata": {},
   "outputs": [
    {
     "data": {
      "text/html": [
       "<div>\n",
       "<style scoped>\n",
       "    .dataframe tbody tr th:only-of-type {\n",
       "        vertical-align: middle;\n",
       "    }\n",
       "\n",
       "    .dataframe tbody tr th {\n",
       "        vertical-align: top;\n",
       "    }\n",
       "\n",
       "    .dataframe thead th {\n",
       "        text-align: right;\n",
       "    }\n",
       "</style>\n",
       "<table border=\"1\" class=\"dataframe\">\n",
       "  <thead>\n",
       "    <tr style=\"text-align: right;\">\n",
       "      <th></th>\n",
       "      <th>weight</th>\n",
       "      <th>engine_capacity</th>\n",
       "      <th>color</th>\n",
       "      <th>year_production</th>\n",
       "    </tr>\n",
       "  </thead>\n",
       "  <tbody>\n",
       "    <tr>\n",
       "      <th>0</th>\n",
       "      <td>4</td>\n",
       "      <td>5.5</td>\n",
       "      <td>6</td>\n",
       "      <td>2016</td>\n",
       "    </tr>\n",
       "    <tr>\n",
       "      <th>1</th>\n",
       "      <td>5</td>\n",
       "      <td>5.0</td>\n",
       "      <td>7</td>\n",
       "      <td>2014</td>\n",
       "    </tr>\n",
       "    <tr>\n",
       "      <th>2</th>\n",
       "      <td>4</td>\n",
       "      <td>4.0</td>\n",
       "      <td>6</td>\n",
       "      <td>2006</td>\n",
       "    </tr>\n",
       "    <tr>\n",
       "      <th>3</th>\n",
       "      <td>1</td>\n",
       "      <td>5.0</td>\n",
       "      <td>6</td>\n",
       "      <td>2021</td>\n",
       "    </tr>\n",
       "    <tr>\n",
       "      <th>4</th>\n",
       "      <td>3</td>\n",
       "      <td>1.0</td>\n",
       "      <td>5</td>\n",
       "      <td>2005</td>\n",
       "    </tr>\n",
       "  </tbody>\n",
       "</table>\n",
       "</div>"
      ],
      "text/plain": [
       "   weight  engine_capacity  color  year_production\n",
       "0       4              5.5      6             2016\n",
       "1       5              5.0      7             2014\n",
       "2       4              4.0      6             2006\n",
       "3       1              5.0      6             2021\n",
       "4       3              1.0      5             2005"
      ]
     },
     "execution_count": 6,
     "metadata": {},
     "output_type": "execute_result"
    }
   ],
   "source": [
    "df = pd.DataFrame({\n",
    "    'weight' : weight, \n",
    "    'engine_capacity' : engine_capacity,\n",
    "    'color' : color,\n",
    "    'year_production': year_production\n",
    "})\n",
    "df.head()"
   ]
  },
  {
   "cell_type": "code",
   "execution_count": 7,
   "metadata": {},
   "outputs": [],
   "source": [
    "#Запишем ф-ю для расхода топлива. Зададим условие, что чем больше двигатель, тем больше расход\n",
    "def fuel_calc(x):\n",
    "    if x['engine_capacity'] <= 2 and x['year_production'] >= 2015:\n",
    "        return np.random.uniform(3, 6)\n",
    "    if x['engine_capacity'] <= 2 and x['year_production'] < 2015:\n",
    "        return np.random.uniform(5, 8)\n",
    "    \n",
    "    if x['engine_capacity'] > 2 and  x['engine_capacity'] <= 3.2 and x['year_production'] >= 2015:\n",
    "        return np.random.uniform(7, 10)\n",
    "    if x['engine_capacity'] > 2 and  x['engine_capacity'] <= 3.2 and x['year_production'] < 2015:\n",
    "        return np.random.uniform(9, 13)\n",
    "    \n",
    "    if x['engine_capacity'] > 3.2 and  x['engine_capacity'] <= 5 and x['year_production'] >= 2015:\n",
    "        return np.random.uniform(12, 16)\n",
    "    if x['engine_capacity'] > 3.2 and  x['engine_capacity'] <= 5 and x['year_production'] < 2015:\n",
    "        return np.random.uniform(15, 20)\n",
    "    \n",
    "    if x['engine_capacity'] > 5 and x['year_production'] >= 2015:\n",
    "        return np.random.uniform(19, 25)\n",
    "    if x['engine_capacity'] > 5  and x['year_production'] < 2015:\n",
    "        return np.random.uniform(24, 30)\n",
    "    "
   ]
  },
  {
   "cell_type": "code",
   "execution_count": 8,
   "metadata": {},
   "outputs": [],
   "source": [
    "#Запишем ф-ю для расстояния. По условию у всех бак равен 200 литрам\n",
    "\n",
    "def distance_calc(x1):\n",
    "    return     200 / x1['fuel']\n"
   ]
  },
  {
   "cell_type": "code",
   "execution_count": 9,
   "metadata": {},
   "outputs": [
    {
     "data": {
      "text/html": [
       "<div>\n",
       "<style scoped>\n",
       "    .dataframe tbody tr th:only-of-type {\n",
       "        vertical-align: middle;\n",
       "    }\n",
       "\n",
       "    .dataframe tbody tr th {\n",
       "        vertical-align: top;\n",
       "    }\n",
       "\n",
       "    .dataframe thead th {\n",
       "        text-align: right;\n",
       "    }\n",
       "</style>\n",
       "<table border=\"1\" class=\"dataframe\">\n",
       "  <thead>\n",
       "    <tr style=\"text-align: right;\">\n",
       "      <th></th>\n",
       "      <th>weight</th>\n",
       "      <th>engine_capacity</th>\n",
       "      <th>color</th>\n",
       "      <th>year_production</th>\n",
       "      <th>fuel</th>\n",
       "    </tr>\n",
       "  </thead>\n",
       "  <tbody>\n",
       "    <tr>\n",
       "      <th>0</th>\n",
       "      <td>4</td>\n",
       "      <td>5.5</td>\n",
       "      <td>6</td>\n",
       "      <td>2016</td>\n",
       "      <td>24.2548</td>\n",
       "    </tr>\n",
       "    <tr>\n",
       "      <th>1</th>\n",
       "      <td>5</td>\n",
       "      <td>5.0</td>\n",
       "      <td>7</td>\n",
       "      <td>2014</td>\n",
       "      <td>19.1131</td>\n",
       "    </tr>\n",
       "    <tr>\n",
       "      <th>2</th>\n",
       "      <td>4</td>\n",
       "      <td>4.0</td>\n",
       "      <td>6</td>\n",
       "      <td>2006</td>\n",
       "      <td>19.6080</td>\n",
       "    </tr>\n",
       "    <tr>\n",
       "      <th>3</th>\n",
       "      <td>1</td>\n",
       "      <td>5.0</td>\n",
       "      <td>6</td>\n",
       "      <td>2021</td>\n",
       "      <td>13.4632</td>\n",
       "    </tr>\n",
       "    <tr>\n",
       "      <th>4</th>\n",
       "      <td>3</td>\n",
       "      <td>1.0</td>\n",
       "      <td>5</td>\n",
       "      <td>2005</td>\n",
       "      <td>7.0008</td>\n",
       "    </tr>\n",
       "  </tbody>\n",
       "</table>\n",
       "</div>"
      ],
      "text/plain": [
       "   weight  engine_capacity  color  year_production     fuel\n",
       "0       4              5.5      6             2016  24.2548\n",
       "1       5              5.0      7             2014  19.1131\n",
       "2       4              4.0      6             2006  19.6080\n",
       "3       1              5.0      6             2021  13.4632\n",
       "4       3              1.0      5             2005   7.0008"
      ]
     },
     "execution_count": 9,
     "metadata": {},
     "output_type": "execute_result"
    }
   ],
   "source": [
    "df['fuel']= df.apply(fuel_calc, axis = 1).round(4)\n",
    "df.head()"
   ]
  },
  {
   "cell_type": "code",
   "execution_count": 10,
   "metadata": {
    "scrolled": true
   },
   "outputs": [
    {
     "data": {
      "text/html": [
       "<div>\n",
       "<style scoped>\n",
       "    .dataframe tbody tr th:only-of-type {\n",
       "        vertical-align: middle;\n",
       "    }\n",
       "\n",
       "    .dataframe tbody tr th {\n",
       "        vertical-align: top;\n",
       "    }\n",
       "\n",
       "    .dataframe thead th {\n",
       "        text-align: right;\n",
       "    }\n",
       "</style>\n",
       "<table border=\"1\" class=\"dataframe\">\n",
       "  <thead>\n",
       "    <tr style=\"text-align: right;\">\n",
       "      <th></th>\n",
       "      <th>weight</th>\n",
       "      <th>engine_capacity</th>\n",
       "      <th>color</th>\n",
       "      <th>year_production</th>\n",
       "      <th>fuel</th>\n",
       "      <th>distance</th>\n",
       "    </tr>\n",
       "  </thead>\n",
       "  <tbody>\n",
       "    <tr>\n",
       "      <th>0</th>\n",
       "      <td>4</td>\n",
       "      <td>5.5</td>\n",
       "      <td>6</td>\n",
       "      <td>2016</td>\n",
       "      <td>24.2548</td>\n",
       "      <td>8.25</td>\n",
       "    </tr>\n",
       "    <tr>\n",
       "      <th>1</th>\n",
       "      <td>5</td>\n",
       "      <td>5.0</td>\n",
       "      <td>7</td>\n",
       "      <td>2014</td>\n",
       "      <td>19.1131</td>\n",
       "      <td>10.46</td>\n",
       "    </tr>\n",
       "    <tr>\n",
       "      <th>2</th>\n",
       "      <td>4</td>\n",
       "      <td>4.0</td>\n",
       "      <td>6</td>\n",
       "      <td>2006</td>\n",
       "      <td>19.6080</td>\n",
       "      <td>10.20</td>\n",
       "    </tr>\n",
       "    <tr>\n",
       "      <th>3</th>\n",
       "      <td>1</td>\n",
       "      <td>5.0</td>\n",
       "      <td>6</td>\n",
       "      <td>2021</td>\n",
       "      <td>13.4632</td>\n",
       "      <td>14.86</td>\n",
       "    </tr>\n",
       "    <tr>\n",
       "      <th>4</th>\n",
       "      <td>3</td>\n",
       "      <td>1.0</td>\n",
       "      <td>5</td>\n",
       "      <td>2005</td>\n",
       "      <td>7.0008</td>\n",
       "      <td>28.57</td>\n",
       "    </tr>\n",
       "  </tbody>\n",
       "</table>\n",
       "</div>"
      ],
      "text/plain": [
       "   weight  engine_capacity  color  year_production     fuel  distance\n",
       "0       4              5.5      6             2016  24.2548      8.25\n",
       "1       5              5.0      7             2014  19.1131     10.46\n",
       "2       4              4.0      6             2006  19.6080     10.20\n",
       "3       1              5.0      6             2021  13.4632     14.86\n",
       "4       3              1.0      5             2005   7.0008     28.57"
      ]
     },
     "execution_count": 10,
     "metadata": {},
     "output_type": "execute_result"
    }
   ],
   "source": [
    "df['distance']= df.apply(distance_calc, axis = 1).round(2)\n",
    "df.head()"
   ]
  },
  {
   "cell_type": "code",
   "execution_count": 10,
   "metadata": {},
   "outputs": [],
   "source": [
    "#Попробуем обучить нашу модель на нашем дата сете \n",
    "#Целевая переменная y = distance. Будем угадывать, сколько проедет машина"
   ]
  },
  {
   "cell_type": "code",
   "execution_count": null,
   "metadata": {},
   "outputs": [],
   "source": [
    "\"\"\"Чтобы лин регресии было проще работать, мы стандантизируем наши данные\n",
    "Мы импортируем StandardScaler. Он смотрит на данные, cчитает их среднее значение, дисперсию и потом из каждого значения\n",
    "вычитает среднее значение и делит на дисперсию. Для того, чтобы это все работало автоматом, в sklearn есть pipeline. \n",
    "Мы создаем пайплайн и передаем туда объекты, которые\n",
    "последовательно будут работать с нашими данными.\n",
    "То есть мы создаем пайплайн, передаем туда стандартскелер и потом лин регрессию\n",
    "\n",
    "\"\"\""
   ]
  },
  {
   "cell_type": "code",
   "execution_count": 11,
   "metadata": {},
   "outputs": [],
   "source": [
    "model = make_pipeline(StandardScaler(), LinearRegression())"
   ]
  },
  {
   "cell_type": "code",
   "execution_count": 11,
   "metadata": {},
   "outputs": [],
   "source": [
    "# Возьмем для признаков вес, цвет, год выпуска и об-м двигателя"
   ]
  },
  {
   "cell_type": "code",
   "execution_count": 13,
   "metadata": {},
   "outputs": [],
   "source": [
    "X = df[['weight', 'color','engine_capacity']]\n",
    "y = df['distance']"
   ]
  },
  {
   "cell_type": "code",
   "execution_count": 14,
   "metadata": {},
   "outputs": [],
   "source": [
    "#Вызываем лин регрессию\n",
    "model = LinearRegression() "
   ]
  },
  {
   "cell_type": "code",
   "execution_count": 15,
   "metadata": {},
   "outputs": [],
   "source": [
    "# обучаем на части датасета (train)\n",
    "\n",
    "X_train, X_test, y_train, y_test = train_test_split(X, y, test_size=0.3, random_state=42)\n",
    "model.fit(X_train, y_train)\n",
    "predictions = model.predict(X_test)"
   ]
  },
  {
   "cell_type": "code",
   "execution_count": 16,
   "metadata": {},
   "outputs": [
    {
     "data": {
      "text/plain": [
       "array([10.9423411 , 16.29905495, 21.35018628, 16.34220073,  4.01027639])"
      ]
     },
     "execution_count": 16,
     "metadata": {},
     "output_type": "execute_result"
    }
   ],
   "source": [
    "predictions[:5] # посмотрим как выглядят наши предсказания"
   ]
  },
  {
   "cell_type": "code",
   "execution_count": 17,
   "metadata": {},
   "outputs": [
    {
     "name": "stdout",
     "output_type": "stream",
     "text": [
      "Точность предсказания на тренировочных 0.64\n",
      "Точность предсказания на тестовых 0.63\n"
     ]
    }
   ],
   "source": [
    "\n",
    "print(f'Точность предсказания на тренировочных {model.score(X_train, y_train).round(2)}')\n",
    "print(f'Точность предсказания на тестовых {model.score(X_test,y_test).round(2)}')"
   ]
  },
  {
   "cell_type": "code",
   "execution_count": null,
   "metadata": {},
   "outputs": [],
   "source": [
    "#ИТОГ: наша модель обучилась на 63% угадывать расстояние.Это логично, так как вес и цвет никак не задействованы в расчете Y"
   ]
  },
  {
   "cell_type": "code",
   "execution_count": null,
   "metadata": {},
   "outputs": [],
   "source": [
    "#Улучшим модель. Добавим ключевой показатель - расход топлива  и год \n"
   ]
  },
  {
   "cell_type": "code",
   "execution_count": 20,
   "metadata": {},
   "outputs": [
    {
     "name": "stdout",
     "output_type": "stream",
     "text": [
      "Точность предсказания на тренировочных 0.71\n",
      "Точность предсказания на тестовых 0.73\n"
     ]
    }
   ],
   "source": [
    "model2 = make_pipeline(StandardScaler(), LinearRegression())\n",
    "X2 = df[['engine_capacity', 'fuel', 'year_production']]\n",
    "y2 = df['distance']\n",
    "model2 = LinearRegression() \n",
    "X_train2, X_test2, y_train2, y_test2 = train_test_split(X2, y2, test_size=0.3, random_state=42)\n",
    "model2.fit(X_train2, y_train2)\n",
    "predictions2 = model2.predict(X_test2)\n",
    "print(f'Точность предсказания на тренировочных {model2.score(X_train2, y_train2).round(2)}')\n",
    "print(f'Точность предсказания на тестовых {model2.score(X_test2,y_test2).round(2)}')"
   ]
  },
  {
   "cell_type": "code",
   "execution_count": null,
   "metadata": {},
   "outputs": [],
   "source": [
    "#ИТОГ: мы улучшили нашу модель на 10%"
   ]
  },
  {
   "cell_type": "code",
   "execution_count": 27,
   "metadata": {},
   "outputs": [],
   "source": []
  },
  {
   "cell_type": "code",
   "execution_count": 38,
   "metadata": {},
   "outputs": [
    {
     "data": {
      "text/plain": [
       "array([27.02224292])"
      ]
     },
     "execution_count": 38,
     "metadata": {},
     "output_type": "execute_result"
    }
   ],
   "source": [
    "#Сделаем свои данные\n",
    "X3 = [[2, 7, 2005]]\n",
    "predictions3 = model2.predict(X3)\n",
    "predictions3"
   ]
  }
 ],
 "metadata": {
  "kernelspec": {
   "display_name": "Python 3",
   "language": "python",
   "name": "python3"
  },
  "language_info": {
   "codemirror_mode": {
    "name": "ipython",
    "version": 3
   },
   "file_extension": ".py",
   "mimetype": "text/x-python",
   "name": "python",
   "nbconvert_exporter": "python",
   "pygments_lexer": "ipython3",
   "version": "3.8.8"
  }
 },
 "nbformat": 4,
 "nbformat_minor": 4
}
