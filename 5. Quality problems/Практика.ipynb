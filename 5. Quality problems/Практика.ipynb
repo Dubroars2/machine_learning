{
 "cells": [
  {
   "cell_type": "code",
   "execution_count": 2,
   "metadata": {},
   "outputs": [],
   "source": [
    "import numpy as np\n",
    "import pandas as pd\n",
    "import seaborn as sns\n",
    "\n",
    "from sklearn.linear_model import LinearRegression"
   ]
  },
  {
   "cell_type": "code",
   "execution_count": 3,
   "metadata": {},
   "outputs": [
    {
     "data": {
      "text/html": [
       "<div>\n",
       "<style scoped>\n",
       "    .dataframe tbody tr th:only-of-type {\n",
       "        vertical-align: middle;\n",
       "    }\n",
       "\n",
       "    .dataframe tbody tr th {\n",
       "        vertical-align: top;\n",
       "    }\n",
       "\n",
       "    .dataframe thead th {\n",
       "        text-align: right;\n",
       "    }\n",
       "</style>\n",
       "<table border=\"1\" class=\"dataframe\">\n",
       "  <thead>\n",
       "    <tr style=\"text-align: right;\">\n",
       "      <th></th>\n",
       "      <th>age_owner</th>\n",
       "      <th>length</th>\n",
       "      <th>width</th>\n",
       "      <th>price</th>\n",
       "    </tr>\n",
       "  </thead>\n",
       "  <tbody>\n",
       "    <tr>\n",
       "      <th>0</th>\n",
       "      <td>95</td>\n",
       "      <td>115</td>\n",
       "      <td>13</td>\n",
       "      <td>149626</td>\n",
       "    </tr>\n",
       "    <tr>\n",
       "      <th>1</th>\n",
       "      <td>50</td>\n",
       "      <td>52</td>\n",
       "      <td>57</td>\n",
       "      <td>296526</td>\n",
       "    </tr>\n",
       "    <tr>\n",
       "      <th>2</th>\n",
       "      <td>75</td>\n",
       "      <td>96</td>\n",
       "      <td>32</td>\n",
       "      <td>307326</td>\n",
       "    </tr>\n",
       "    <tr>\n",
       "      <th>3</th>\n",
       "      <td>28</td>\n",
       "      <td>75</td>\n",
       "      <td>32</td>\n",
       "      <td>240126</td>\n",
       "    </tr>\n",
       "    <tr>\n",
       "      <th>4</th>\n",
       "      <td>59</td>\n",
       "      <td>89</td>\n",
       "      <td>70</td>\n",
       "      <td>623126</td>\n",
       "    </tr>\n",
       "  </tbody>\n",
       "</table>\n",
       "</div>"
      ],
      "text/plain": [
       "   age_owner  length  width   price\n",
       "0         95     115     13  149626\n",
       "1         50      52     57  296526\n",
       "2         75      96     32  307326\n",
       "3         28      75     32  240126\n",
       "4         59      89     70  623126"
      ]
     },
     "execution_count": 3,
     "metadata": {},
     "output_type": "execute_result"
    }
   ],
   "source": [
    "# Создаём сэмпл (1000)\n",
    "n_samples = 1000\n",
    "\n",
    "age_owner = np.random.choice(90, n_samples) + 21 #Берем случайно возраст от 0 до 90 и прибавляя 21\n",
    "length = np.random.choice(120, n_samples) + 15 #Высота человека\n",
    "width = np.random.choice(80, n_samples) + 10 #Ширина человека\n",
    "\n",
    "price = length * width * 100 + 126 #абстрактная цена высота на ширину + случайные Bias (веса) 100 и 126. Это столбцец таргет (у)\n",
    "\n",
    "data = pd.DataFrame({'age_owner': age_owner, 'length': length, 'width': width, 'price': price})\n",
    "data.head(5) #Получаем вот такой вот датасет. \n",
    "#Возраст вообще не информативный и никак не влияет на цену"
   ]
  },
  {
   "cell_type": "code",
   "execution_count": 4,
   "metadata": {},
   "outputs": [
    {
     "name": "stdout",
     "output_type": "stream",
     "text": [
      "Weights: [-125.03797614 5032.7338172  7201.52107394]\n",
      "Bias: -353050.58717234526\n",
      "Error: 59738.96598988308\n"
     ]
    }
   ],
   "source": [
    "#Попробуем обучить нашу модель на нашем дата сете \n",
    "\n",
    "from sklearn.metrics import mean_absolute_error\n",
    "\n",
    "#mean_absolute_error метрика - средняя абсолютная ошибка\n",
    "\n",
    "X = data[['age_owner', 'length', 'width']] #берем все признаки, которые есть \n",
    "y = data['price'] #целевая переменная \n",
    "reg = LinearRegression().fit(X, y) #берем линейную регрессию и обучаем \n",
    "print('Weights: {}'.format(reg.coef_))\n",
    "print('Bias: {}'.format(reg.intercept_)) #Выводим веса, которые получились \n",
    "\n",
    "pred_values = reg.predict(data[['age_owner', 'length', 'width']])\n",
    "print('Error: {}'.format(mean_absolute_error(pred_values, y))) #Смотрим на ср ошибку предсказания\n",
    "\n",
    "#Веса получились очень большие \n",
    "#Bies смещение вроде как \n",
    "#Ошибка очень большая.\n",
    "#В таком виде модель обучилась очень плохо "
   ]
  },
  {
   "cell_type": "code",
   "execution_count": 5,
   "metadata": {},
   "outputs": [
    {
     "data": {
      "text/plain": [
       "301126.0"
      ]
     },
     "execution_count": 5,
     "metadata": {},
     "output_type": "execute_result"
    }
   ],
   "source": [
    "y.median()"
   ]
  },
  {
   "cell_type": "code",
   "execution_count": null,
   "metadata": {},
   "outputs": [],
   "source": [
    "#Что можно сделать? ну во-первых выкинуть мусорную переменную возраст и ошибка чуть-чуть упадет \n",
    "#Есть вывод, что не информативные признаки ни на что не влияют итак "
   ]
  },
  {
   "cell_type": "code",
   "execution_count": 7,
   "metadata": {},
   "outputs": [
    {
     "name": "stdout",
     "output_type": "stream",
     "text": [
      "Weights: [5035.3800806  7204.13776424]\n",
      "Bias: -361345.6634966956\n",
      "Error: 59697.779386529204\n"
     ]
    }
   ],
   "source": [
    "X = data[['length', 'width']]\n",
    "y = data['price']\n",
    "reg = LinearRegression().fit(X, y)\n",
    "print('Weights: {}'.format(reg.coef_))\n",
    "print('Bias: {}'.format(reg.intercept_))\n",
    "\n",
    "pred_values = reg.predict(data[['length', 'width']])\n",
    "print('Error: {}'.format(mean_absolute_error(pred_values, y))) \n",
    "\n"
   ]
  },
  {
   "cell_type": "code",
   "execution_count": 8,
   "metadata": {},
   "outputs": [
    {
     "data": {
      "text/html": [
       "<div>\n",
       "<style scoped>\n",
       "    .dataframe tbody tr th:only-of-type {\n",
       "        vertical-align: middle;\n",
       "    }\n",
       "\n",
       "    .dataframe tbody tr th {\n",
       "        vertical-align: top;\n",
       "    }\n",
       "\n",
       "    .dataframe thead th {\n",
       "        text-align: right;\n",
       "    }\n",
       "</style>\n",
       "<table border=\"1\" class=\"dataframe\">\n",
       "  <thead>\n",
       "    <tr style=\"text-align: right;\">\n",
       "      <th></th>\n",
       "      <th>age_owner</th>\n",
       "      <th>length</th>\n",
       "      <th>width</th>\n",
       "      <th>price</th>\n",
       "      <th>mult</th>\n",
       "    </tr>\n",
       "  </thead>\n",
       "  <tbody>\n",
       "    <tr>\n",
       "      <th>0</th>\n",
       "      <td>95</td>\n",
       "      <td>115</td>\n",
       "      <td>13</td>\n",
       "      <td>149626</td>\n",
       "      <td>1495</td>\n",
       "    </tr>\n",
       "    <tr>\n",
       "      <th>1</th>\n",
       "      <td>50</td>\n",
       "      <td>52</td>\n",
       "      <td>57</td>\n",
       "      <td>296526</td>\n",
       "      <td>2964</td>\n",
       "    </tr>\n",
       "    <tr>\n",
       "      <th>2</th>\n",
       "      <td>75</td>\n",
       "      <td>96</td>\n",
       "      <td>32</td>\n",
       "      <td>307326</td>\n",
       "      <td>3072</td>\n",
       "    </tr>\n",
       "    <tr>\n",
       "      <th>3</th>\n",
       "      <td>28</td>\n",
       "      <td>75</td>\n",
       "      <td>32</td>\n",
       "      <td>240126</td>\n",
       "      <td>2400</td>\n",
       "    </tr>\n",
       "    <tr>\n",
       "      <th>4</th>\n",
       "      <td>59</td>\n",
       "      <td>89</td>\n",
       "      <td>70</td>\n",
       "      <td>623126</td>\n",
       "      <td>6230</td>\n",
       "    </tr>\n",
       "  </tbody>\n",
       "</table>\n",
       "</div>"
      ],
      "text/plain": [
       "   age_owner  length  width   price  mult\n",
       "0         95     115     13  149626  1495\n",
       "1         50      52     57  296526  2964\n",
       "2         75      96     32  307326  3072\n",
       "3         28      75     32  240126  2400\n",
       "4         59      89     70  623126  6230"
      ]
     },
     "execution_count": 8,
     "metadata": {},
     "output_type": "execute_result"
    }
   ],
   "source": [
    "#Для улучшения можно попробовать добавить еще один признак. К примеру, перемножение ширины и высоты\n",
    "# Создаем новый признак\n",
    "data['mult'] = data['length'] * data['width']\n",
    "data.head(5)"
   ]
  },
  {
   "cell_type": "code",
   "execution_count": 9,
   "metadata": {},
   "outputs": [
    {
     "name": "stdout",
     "output_type": "stream",
     "text": [
      "Weights: [100.]\n",
      "Bias: 125.99999999982538\n",
      "Error: 8.827555575408042e-11\n"
     ]
    }
   ],
   "source": [
    "#Если построить модель только на нашем новом признаке, то мы видим, что \n",
    "#Ошибка сразу падает очень сильно и становится почти 0\n",
    "#И вес подобрался правильно\n",
    "#И свободный член правильно подобрался\n",
    "\n",
    "X = data[['mult']]\n",
    "y = data['price']\n",
    "reg = LinearRegression().fit(X, y)\n",
    "print('Weights: {}'.format(reg.coef_))\n",
    "print('Bias: {}'.format(reg.intercept_))\n",
    "\n",
    "pred_values = reg.predict(data[['mult']])\n",
    "print('Error: {}'.format(mean_absolute_error(pred_values, y)))"
   ]
  },
  {
   "cell_type": "code",
   "execution_count": null,
   "metadata": {},
   "outputs": [],
   "source": []
  },
  {
   "cell_type": "code",
   "execution_count": null,
   "metadata": {},
   "outputs": [],
   "source": []
  },
  {
   "cell_type": "code",
   "execution_count": null,
   "metadata": {},
   "outputs": [],
   "source": []
  }
 ],
 "metadata": {
  "kernelspec": {
   "display_name": "Python 3",
   "language": "python",
   "name": "python3"
  },
  "language_info": {
   "codemirror_mode": {
    "name": "ipython",
    "version": 3
   },
   "file_extension": ".py",
   "mimetype": "text/x-python",
   "name": "python",
   "nbconvert_exporter": "python",
   "pygments_lexer": "ipython3",
   "version": "3.8.5"
  }
 },
 "nbformat": 4,
 "nbformat_minor": 4
}
