{
 "cells": [
  {
   "cell_type": "markdown",
   "id": "8885790f",
   "metadata": {},
   "source": [
    "Теперь решаем задачу регрессии - предскажем цены на недвижимость. Использовать датасет www.kaggle.com...iques/data (train.csv)\n",
    "\n",
    "Построить случайный лес, вывести важность признаков\n",
    "\n",
    "Обучить стекинг как минимум 3х моделей, использовать хотя бы 1 линейную модель и 1 нелинейную\n",
    "\n",
    "В качестве решения: Jupyter notebook с кодом, комментариями и графиками"
   ]
  },
  {
   "cell_type": "code",
   "execution_count": null,
   "id": "298d0920",
   "metadata": {},
   "outputs": [],
   "source": [
    "import pandas as pd\n",
    "from sklearn.ensemble import RandomForestClassifier\n",
    "from sklearn.model_selection import train_test_split\n",
    "import matplotlib.pyplot as plt\n",
    "\n",
    "\n",
    "from sklearn.ensemble import StackingRegressor\n",
    "from sklearn.linear_model import LogisticRegression\n",
    "from sklearn.tree import DecisionTreeClassifier \n",
    "from sklearn.linear_model import LinearRegression, Ridge, Lasso\n",
    "from sklearn.svm import SVC\n"
   ]
  },
  {
   "cell_type": "code",
   "execution_count": 2,
   "id": "f8b70bf1",
   "metadata": {},
   "outputs": [
    {
     "data": {
      "text/html": [
       "<div>\n",
       "<style scoped>\n",
       "    .dataframe tbody tr th:only-of-type {\n",
       "        vertical-align: middle;\n",
       "    }\n",
       "\n",
       "    .dataframe tbody tr th {\n",
       "        vertical-align: top;\n",
       "    }\n",
       "\n",
       "    .dataframe thead th {\n",
       "        text-align: right;\n",
       "    }\n",
       "</style>\n",
       "<table border=\"1\" class=\"dataframe\">\n",
       "  <thead>\n",
       "    <tr style=\"text-align: right;\">\n",
       "      <th></th>\n",
       "      <th>ID</th>\n",
       "      <th>target</th>\n",
       "      <th>v1</th>\n",
       "      <th>v2</th>\n",
       "      <th>v3</th>\n",
       "      <th>v4</th>\n",
       "      <th>v5</th>\n",
       "      <th>v6</th>\n",
       "      <th>v7</th>\n",
       "      <th>v8</th>\n",
       "      <th>...</th>\n",
       "      <th>v122</th>\n",
       "      <th>v123</th>\n",
       "      <th>v124</th>\n",
       "      <th>v125</th>\n",
       "      <th>v126</th>\n",
       "      <th>v127</th>\n",
       "      <th>v128</th>\n",
       "      <th>v129</th>\n",
       "      <th>v130</th>\n",
       "      <th>v131</th>\n",
       "    </tr>\n",
       "  </thead>\n",
       "  <tbody>\n",
       "    <tr>\n",
       "      <th>0</th>\n",
       "      <td>3</td>\n",
       "      <td>1</td>\n",
       "      <td>1.335739</td>\n",
       "      <td>8.727474</td>\n",
       "      <td>C</td>\n",
       "      <td>3.921026</td>\n",
       "      <td>7.915266</td>\n",
       "      <td>2.599278</td>\n",
       "      <td>3.176895</td>\n",
       "      <td>0.012941</td>\n",
       "      <td>...</td>\n",
       "      <td>8.0</td>\n",
       "      <td>1.98978</td>\n",
       "      <td>0.035754</td>\n",
       "      <td>AU</td>\n",
       "      <td>1.804126</td>\n",
       "      <td>3.113719</td>\n",
       "      <td>2.024285</td>\n",
       "      <td>0</td>\n",
       "      <td>0.636365</td>\n",
       "      <td>2.857144</td>\n",
       "    </tr>\n",
       "    <tr>\n",
       "      <th>1</th>\n",
       "      <td>4</td>\n",
       "      <td>1</td>\n",
       "      <td>NaN</td>\n",
       "      <td>NaN</td>\n",
       "      <td>C</td>\n",
       "      <td>NaN</td>\n",
       "      <td>9.191265</td>\n",
       "      <td>NaN</td>\n",
       "      <td>NaN</td>\n",
       "      <td>2.301630</td>\n",
       "      <td>...</td>\n",
       "      <td>NaN</td>\n",
       "      <td>NaN</td>\n",
       "      <td>0.598896</td>\n",
       "      <td>AF</td>\n",
       "      <td>NaN</td>\n",
       "      <td>NaN</td>\n",
       "      <td>1.957825</td>\n",
       "      <td>0</td>\n",
       "      <td>NaN</td>\n",
       "      <td>NaN</td>\n",
       "    </tr>\n",
       "  </tbody>\n",
       "</table>\n",
       "<p>2 rows × 133 columns</p>\n",
       "</div>"
      ],
      "text/plain": [
       "   ID  target        v1        v2 v3        v4        v5        v6        v7  \\\n",
       "0   3       1  1.335739  8.727474  C  3.921026  7.915266  2.599278  3.176895   \n",
       "1   4       1       NaN       NaN  C       NaN  9.191265       NaN       NaN   \n",
       "\n",
       "         v8  ...  v122     v123      v124  v125      v126      v127      v128  \\\n",
       "0  0.012941  ...   8.0  1.98978  0.035754    AU  1.804126  3.113719  2.024285   \n",
       "1  2.301630  ...   NaN      NaN  0.598896    AF       NaN       NaN  1.957825   \n",
       "\n",
       "   v129      v130      v131  \n",
       "0     0  0.636365  2.857144  \n",
       "1     0       NaN       NaN  \n",
       "\n",
       "[2 rows x 133 columns]"
      ]
     },
     "execution_count": 2,
     "metadata": {},
     "output_type": "execute_result"
    }
   ],
   "source": [
    "df = pd.read_csv('/Users/dubrov_arseniy/Desktop/Нетология/Data Scientist/ML/11. Ensemble/train.csv')\n",
    "df.head(2)"
   ]
  },
  {
   "cell_type": "code",
   "execution_count": 3,
   "id": "252ac081",
   "metadata": {},
   "outputs": [
    {
     "data": {
      "text/plain": [
       "(114321, 133)"
      ]
     },
     "execution_count": 3,
     "metadata": {},
     "output_type": "execute_result"
    }
   ],
   "source": [
    "df.shape"
   ]
  },
  {
   "cell_type": "code",
   "execution_count": 4,
   "id": "625c326b",
   "metadata": {},
   "outputs": [
    {
     "data": {
      "text/html": [
       "<div>\n",
       "<style scoped>\n",
       "    .dataframe tbody tr th:only-of-type {\n",
       "        vertical-align: middle;\n",
       "    }\n",
       "\n",
       "    .dataframe tbody tr th {\n",
       "        vertical-align: top;\n",
       "    }\n",
       "\n",
       "    .dataframe thead th {\n",
       "        text-align: right;\n",
       "    }\n",
       "</style>\n",
       "<table border=\"1\" class=\"dataframe\">\n",
       "  <thead>\n",
       "    <tr style=\"text-align: right;\">\n",
       "      <th></th>\n",
       "      <th>type</th>\n",
       "      <th>is null</th>\n",
       "      <th>total count</th>\n",
       "      <th>share of ttl %</th>\n",
       "    </tr>\n",
       "  </thead>\n",
       "  <tbody>\n",
       "    <tr>\n",
       "      <th>v1</th>\n",
       "      <td>float64</td>\n",
       "      <td>49832</td>\n",
       "      <td>114321</td>\n",
       "      <td>0.44</td>\n",
       "    </tr>\n",
       "    <tr>\n",
       "      <th>v2</th>\n",
       "      <td>float64</td>\n",
       "      <td>49796</td>\n",
       "      <td>114321</td>\n",
       "      <td>0.44</td>\n",
       "    </tr>\n",
       "    <tr>\n",
       "      <th>v3</th>\n",
       "      <td>object</td>\n",
       "      <td>3457</td>\n",
       "      <td>114321</td>\n",
       "      <td>0.03</td>\n",
       "    </tr>\n",
       "    <tr>\n",
       "      <th>v4</th>\n",
       "      <td>float64</td>\n",
       "      <td>49796</td>\n",
       "      <td>114321</td>\n",
       "      <td>0.44</td>\n",
       "    </tr>\n",
       "    <tr>\n",
       "      <th>v5</th>\n",
       "      <td>float64</td>\n",
       "      <td>48624</td>\n",
       "      <td>114321</td>\n",
       "      <td>0.43</td>\n",
       "    </tr>\n",
       "    <tr>\n",
       "      <th>...</th>\n",
       "      <td>...</td>\n",
       "      <td>...</td>\n",
       "      <td>...</td>\n",
       "      <td>...</td>\n",
       "    </tr>\n",
       "    <tr>\n",
       "      <th>v126</th>\n",
       "      <td>float64</td>\n",
       "      <td>49832</td>\n",
       "      <td>114321</td>\n",
       "      <td>0.44</td>\n",
       "    </tr>\n",
       "    <tr>\n",
       "      <th>v127</th>\n",
       "      <td>float64</td>\n",
       "      <td>49832</td>\n",
       "      <td>114321</td>\n",
       "      <td>0.44</td>\n",
       "    </tr>\n",
       "    <tr>\n",
       "      <th>v128</th>\n",
       "      <td>float64</td>\n",
       "      <td>48624</td>\n",
       "      <td>114321</td>\n",
       "      <td>0.43</td>\n",
       "    </tr>\n",
       "    <tr>\n",
       "      <th>v130</th>\n",
       "      <td>float64</td>\n",
       "      <td>49843</td>\n",
       "      <td>114321</td>\n",
       "      <td>0.44</td>\n",
       "    </tr>\n",
       "    <tr>\n",
       "      <th>v131</th>\n",
       "      <td>float64</td>\n",
       "      <td>49895</td>\n",
       "      <td>114321</td>\n",
       "      <td>0.44</td>\n",
       "    </tr>\n",
       "  </tbody>\n",
       "</table>\n",
       "<p>106 rows × 4 columns</p>\n",
       "</div>"
      ],
      "text/plain": [
       "         type  is null  total count  share of ttl %\n",
       "v1    float64    49832       114321            0.44\n",
       "v2    float64    49796       114321            0.44\n",
       "v3     object     3457       114321            0.03\n",
       "v4    float64    49796       114321            0.44\n",
       "v5    float64    48624       114321            0.43\n",
       "...       ...      ...          ...             ...\n",
       "v126  float64    49832       114321            0.44\n",
       "v127  float64    49832       114321            0.44\n",
       "v128  float64    48624       114321            0.43\n",
       "v130  float64    49843       114321            0.44\n",
       "v131  float64    49895       114321            0.44\n",
       "\n",
       "[106 rows x 4 columns]"
      ]
     },
     "execution_count": 4,
     "metadata": {},
     "output_type": "execute_result"
    }
   ],
   "source": [
    "#Посмотрим типы данных и пропущенные значения\n",
    "check = pd.DataFrame( data = {'type' : df.dtypes, \n",
    "                   'is null' : df.isnull().sum(),\n",
    "                    'total count' : df['ID'].count(),\n",
    "                     })\n",
    "check['share of ttl %'] = (check['is null'] / check['total count']).round(2)\n",
    "check.loc[check['share of ttl %'] > 0.0]"
   ]
  },
  {
   "cell_type": "code",
   "execution_count": null,
   "id": "864eedfe",
   "metadata": {},
   "outputs": [],
   "source": []
  },
  {
   "cell_type": "markdown",
   "id": "22b7d2cb",
   "metadata": {},
   "source": [
    "Пропусков очень много и они занимают большой процент от общего кол-ва, поэтому просто удалить мы их не можем.\n",
    "Заменим их на медиану по столбцу "
   ]
  },
  {
   "cell_type": "code",
   "execution_count": 5,
   "id": "da64bc18",
   "metadata": {},
   "outputs": [
    {
     "data": {
      "text/plain": [
       "ID           0\n",
       "target       0\n",
       "v1           0\n",
       "v2           0\n",
       "v3        3457\n",
       "          ... \n",
       "v127         0\n",
       "v128         0\n",
       "v129         0\n",
       "v130         0\n",
       "v131         0\n",
       "Length: 133, dtype: int64"
      ]
     },
     "execution_count": 5,
     "metadata": {},
     "output_type": "execute_result"
    }
   ],
   "source": [
    "df.fillna(df.median(), inplace = True)\n",
    "df.isnull().sum()"
   ]
  },
  {
   "cell_type": "code",
   "execution_count": 6,
   "id": "0af4b846",
   "metadata": {},
   "outputs": [
    {
     "data": {
      "text/html": [
       "<div>\n",
       "<style scoped>\n",
       "    .dataframe tbody tr th:only-of-type {\n",
       "        vertical-align: middle;\n",
       "    }\n",
       "\n",
       "    .dataframe tbody tr th {\n",
       "        vertical-align: top;\n",
       "    }\n",
       "\n",
       "    .dataframe thead th {\n",
       "        text-align: right;\n",
       "    }\n",
       "</style>\n",
       "<table border=\"1\" class=\"dataframe\">\n",
       "  <thead>\n",
       "    <tr style=\"text-align: right;\">\n",
       "      <th></th>\n",
       "      <th>type</th>\n",
       "      <th>is null</th>\n",
       "      <th>total count</th>\n",
       "      <th>share of ttl %</th>\n",
       "    </tr>\n",
       "  </thead>\n",
       "  <tbody>\n",
       "    <tr>\n",
       "      <th>v3</th>\n",
       "      <td>object</td>\n",
       "      <td>3457</td>\n",
       "      <td>114321</td>\n",
       "      <td>0.03</td>\n",
       "    </tr>\n",
       "    <tr>\n",
       "      <th>v30</th>\n",
       "      <td>object</td>\n",
       "      <td>60110</td>\n",
       "      <td>114321</td>\n",
       "      <td>0.53</td>\n",
       "    </tr>\n",
       "    <tr>\n",
       "      <th>v31</th>\n",
       "      <td>object</td>\n",
       "      <td>3457</td>\n",
       "      <td>114321</td>\n",
       "      <td>0.03</td>\n",
       "    </tr>\n",
       "    <tr>\n",
       "      <th>v56</th>\n",
       "      <td>object</td>\n",
       "      <td>6882</td>\n",
       "      <td>114321</td>\n",
       "      <td>0.06</td>\n",
       "    </tr>\n",
       "    <tr>\n",
       "      <th>v113</th>\n",
       "      <td>object</td>\n",
       "      <td>55304</td>\n",
       "      <td>114321</td>\n",
       "      <td>0.48</td>\n",
       "    </tr>\n",
       "  </tbody>\n",
       "</table>\n",
       "</div>"
      ],
      "text/plain": [
       "        type  is null  total count  share of ttl %\n",
       "v3    object     3457       114321            0.03\n",
       "v30   object    60110       114321            0.53\n",
       "v31   object     3457       114321            0.03\n",
       "v56   object     6882       114321            0.06\n",
       "v113  object    55304       114321            0.48"
      ]
     },
     "execution_count": 6,
     "metadata": {},
     "output_type": "execute_result"
    }
   ],
   "source": [
    "check = pd.DataFrame( data = {'type' : df.dtypes, \n",
    "                   'is null' : df.isnull().sum(),\n",
    "                    'total count' : df['ID'].count(),\n",
    "                     })\n",
    "check['share of ttl %'] = (check['is null'] / check['total count']).round(2)\n",
    "check.loc[check['share of ttl %'] > 0.0].head(10)"
   ]
  },
  {
   "cell_type": "code",
   "execution_count": null,
   "id": "b2d9cec9",
   "metadata": {},
   "outputs": [],
   "source": []
  },
  {
   "cell_type": "code",
   "execution_count": 7,
   "id": "b42cc1fa",
   "metadata": {},
   "outputs": [],
   "source": [
    "#Заполним пропуски значением нан\n",
    "category = list(df.dtypes[df.dtypes == object].index)\n",
    "df[category] = df[category].fillna('nan')\n"
   ]
  },
  {
   "cell_type": "code",
   "execution_count": 8,
   "id": "54b20c80",
   "metadata": {},
   "outputs": [],
   "source": [
    "#Делаем категориальные переменнные с помощью onehot encoding\n",
    "new_data = pd.get_dummies(df, columns = category)\n"
   ]
  },
  {
   "cell_type": "code",
   "execution_count": null,
   "id": "d30a7b5a",
   "metadata": {},
   "outputs": [],
   "source": []
  },
  {
   "cell_type": "code",
   "execution_count": 9,
   "id": "9b3adde9",
   "metadata": {},
   "outputs": [],
   "source": [
    "# Объявим переменные Х и у\n",
    "X = new_data[new_data.columns]\n",
    "X.drop(columns = ['target'], inplace = True)\n",
    "y = new_data['target']"
   ]
  },
  {
   "cell_type": "code",
   "execution_count": 10,
   "id": "1bf19a35",
   "metadata": {},
   "outputs": [],
   "source": [
    "X_train, X_test, y_train, y_test = train_test_split(X, y, test_size = 0.3, random_state = 42)"
   ]
  },
  {
   "cell_type": "code",
   "execution_count": 11,
   "id": "6a7c5bd6",
   "metadata": {},
   "outputs": [
    {
     "data": {
      "text/plain": [
       "0.761086975537219"
      ]
     },
     "execution_count": 11,
     "metadata": {},
     "output_type": "execute_result"
    }
   ],
   "source": [
    "#Обучаем модель и смотрим качество модели \n",
    "model = RandomForestClassifier(\n",
    "    n_estimators=50, \n",
    "    max_depth = 2\n",
    ")\n",
    "model.fit(X_train, y_train)\n",
    "model.score(X_test, y_test)\n",
    "\n"
   ]
  },
  {
   "cell_type": "code",
   "execution_count": 12,
   "id": "fbc624b0",
   "metadata": {},
   "outputs": [
    {
     "data": {
      "text/plain": [
       "array([[0.19783456, 0.80216544],\n",
       "       [0.23390393, 0.76609607],\n",
       "       [0.27346403, 0.72653597],\n",
       "       ...,\n",
       "       [0.25265965, 0.74734035],\n",
       "       [0.24739791, 0.75260209],\n",
       "       [0.20542384, 0.79457616]])"
      ]
     },
     "execution_count": 12,
     "metadata": {},
     "output_type": "execute_result"
    }
   ],
   "source": [
    "model.predict_proba(X_test)"
   ]
  },
  {
   "cell_type": "code",
   "execution_count": 13,
   "id": "30278561",
   "metadata": {},
   "outputs": [],
   "source": [
    "# Выявляем наиболее важные признаки и выводим на график.\n",
    "\n",
    "weight = pd.Series(model.feature_importances_)\n",
    "weight.sort_values(ascending = False).head()\n",
    "weight.index = pd.Series(X_train.columns)"
   ]
  },
  {
   "cell_type": "code",
   "execution_count": 14,
   "id": "629cb555",
   "metadata": {},
   "outputs": [
    {
     "data": {
      "image/png": "[encoded data removed]",
      "text/plain": [
       "<Figure size 432x288 with 1 Axes>"
      ]
     },
     "metadata": {
      "needs_background": "light"
     },
     "output_type": "display_data"
    }
   ],
   "source": [
    "plt.title('Top 7 feature importances')\n",
    "plt.xlabel('Features')\n",
    "plt.ylabel('Gini')\n",
    "plt.bar(weight.sort_values(ascending=False).head(7).index, weight.sort_values(ascending=False).head(7))\n",
    "plt.show()"
   ]
  },
  {
   "cell_type": "code",
   "execution_count": 16,
   "id": "8297d965",
   "metadata": {},
   "outputs": [],
   "source": [
    "#Обьявим новые переменные Х и У с 7 наиболее важными признаками\n",
    "\n",
    "X_new = new_data[['v56_P','v110_A', 'v76', 'v85', 'v30_E', 'v72', 'v79_F']]\n",
    "y_new = new_data['target']"
   ]
  },
  {
   "cell_type": "code",
   "execution_count": 17,
   "id": "1d20cecf",
   "metadata": {},
   "outputs": [
    {
     "data": {
      "text/plain": [
       "0.761086975537219"
      ]
     },
     "execution_count": 17,
     "metadata": {},
     "output_type": "execute_result"
    }
   ],
   "source": [
    "#Делим, обучаем, выводим результат \n",
    "X_train_new, X_test_new, y_train_new, y_test_new = train_test_split(X_new, y_new, test_size = 0.3, random_state = 42)\n",
    "model2 = RandomForestClassifier(\n",
    "    n_estimators=50, \n",
    "    max_depth = 2\n",
    ")\n",
    "model2.fit(X_train_new, y_train_new)\n",
    "model2.score(X_test_new, y_test_new)"
   ]
  },
  {
   "cell_type": "markdown",
   "id": "aba238a7",
   "metadata": {},
   "source": [
    "## Стекинг"
   ]
  },
  {
   "cell_type": "code",
   "execution_count": 18,
   "id": "9e47d695",
   "metadata": {},
   "outputs": [],
   "source": [
    "from sklearn.ensemble import StackingRegressor\n",
    "from sklearn.linear_model import LinearRegression\n",
    "from sklearn.neighbors import KNeighborsRegressor\n",
    "from sklearn.tree import DecisionTreeRegressor\n",
    "from sklearn.linear_model import RidgeCV"
   ]
  },
  {
   "cell_type": "code",
   "execution_count": 19,
   "id": "7eec3069",
   "metadata": {},
   "outputs": [],
   "source": [
    "# Создаем стэккинг и обучаем его на наших данных \n",
    "# добавляем 3 базовых моделей и одну мета-модель \n",
    "\n",
    "Regressor = StackingRegressor(\n",
    "    [\n",
    "        ('LinearRegression', LinearRegression()),\n",
    "        ('KNeighborsRegressor', KNeighborsRegressor()),\n",
    "        ('DecisionTree', DecisionTreeRegressor())\n",
    "    ], RidgeCV())"
   ]
  },
  {
   "cell_type": "code",
   "execution_count": 20,
   "id": "153dc0a9",
   "metadata": {},
   "outputs": [
    {
     "data": {
      "text/plain": [
       "StackingRegressor(estimators=[('LinearRegression', LinearRegression()),\n",
       "                              ('KNeighborsRegressor', KNeighborsRegressor()),\n",
       "                              ('DecisionTree', DecisionTreeRegressor())],\n",
       "                  final_estimator=RidgeCV(alphas=array([ 0.1,  1. , 10. ])))"
      ]
     },
     "execution_count": 20,
     "metadata": {},
     "output_type": "execute_result"
    }
   ],
   "source": [
    "Regressor.fit(X_train_new, y_train_new)"
   ]
  },
  {
   "cell_type": "code",
   "execution_count": 22,
   "id": "4499e71c",
   "metadata": {},
   "outputs": [
    {
     "name": "stdout",
     "output_type": "stream",
     "text": [
      "Score on train data 0.10270698740741047\n",
      "Score on test data 0.0371706104122852\n",
      "Score on train data with model LinearRegression 0.0375817612160374\n",
      "Score on test data with model LinearRegression 0.034054972474647505\n",
      "Score on train data with model KNeighborsRegressor 0.12936806454394756\n",
      "Score on test data with model KNeighborsRegressor -0.09042045793858611\n",
      "Score on train data with model DecisionTree 0.586108375078206\n",
      "Score on test data with model DecisionTree -0.44195861254775415\n"
     ]
    }
   ],
   "source": [
    "print(f'Score on train data {Regressor.score(X_train_new, y_train_new)}')\n",
    "print(f'Score on test data {Regressor.score(X_test_new, y_test_new)}')\n",
    "# посмотрим качество на трейне и тесте в тотале\n",
    "\n",
    "\n",
    "for i in Regressor.named_estimators:# тут посмотрим по оценку по каждой нашей моделе\n",
    "    print(f'Score on train data with model {i} {Regressor.named_estimators_[i].score(X_train_new, y_train_new)}')\n",
    "    print(f'Score on test data with model {i} {Regressor.named_estimators_[i].score(X_test_new, y_test_new)}')"
   ]
  }
 ],
 "metadata": {
  "kernelspec": {
   "display_name": "Python 3",
   "language": "python",
   "name": "python3"
  },
  "language_info": {
   "codemirror_mode": {
    "name": "ipython",
    "version": 3
   },
   "file_extension": ".py",
   "mimetype": "text/x-python",
   "name": "python",
   "nbconvert_exporter": "python",
   "pygments_lexer": "ipython3",
   "version": "3.8.8"
  }
 },
 "nbformat": 4,
 "nbformat_minor": 5
}
