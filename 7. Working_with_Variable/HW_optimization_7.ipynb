{
 "cells": [
  {
   "cell_type": "code",
   "execution_count": null,
   "id": "a2b80c8e",
   "metadata": {},
   "outputs": [],
   "source": [
    "'''\n",
    "отренируем навыки, полученные на практическом занятии. \n",
    "Пользуясь новыми знаниями, проведите эксплоративный анализ данных на данных недвижимости Бостона, \n",
    "и попытайтесь обучить линейную модель наиболее качественно. Все ваши действия и решения описывайте в markdown.\n",
    "Данные вы сможете получить исполнив следующий код:\n",
    "from sklearn.datasets import load_boston\n",
    "import pandas as pd\n",
    "data = pd.read_csv(load_boston()[‘filename’], skiprows=1)\n",
    "Переменная, которую надо предсказать - ’MEDV’.\n",
    "Прочитать информацию о содержимом датасета:\n",
    "print(load_boston()[‘DESCR’])\n",
    "Если вы неудовлетворенны результатом, но лучшего решения предложить не можете, то высылайте задание на проверку.\n",
    "Цель задания - закрепить полученные навыки.\n",
    "'''"
   ]
  },
  {
   "cell_type": "code",
   "execution_count": 1,
   "id": "10f9a2ef",
   "metadata": {},
   "outputs": [],
   "source": [
    "from sklearn.datasets import load_boston\n",
    "import pandas as pd\n",
    "import numpy as np\n",
    "import seaborn as sns\n",
    "from matplotlib import pyplot as plt\n",
    "from sklearn.linear_model import LinearRegression\n",
    "from sklearn.model_selection import train_test_split\n",
    "from sklearn.preprocessing import StandardScaler\n",
    "\n"
   ]
  },
  {
   "cell_type": "code",
   "execution_count": 2,
   "id": "efd1462b",
   "metadata": {},
   "outputs": [
    {
     "data": {
      "text/html": [
       "<div>\n",
       "<style scoped>\n",
       "    .dataframe tbody tr th:only-of-type {\n",
       "        vertical-align: middle;\n",
       "    }\n",
       "\n",
       "    .dataframe tbody tr th {\n",
       "        vertical-align: top;\n",
       "    }\n",
       "\n",
       "    .dataframe thead th {\n",
       "        text-align: right;\n",
       "    }\n",
       "</style>\n",
       "<table border=\"1\" class=\"dataframe\">\n",
       "  <thead>\n",
       "    <tr style=\"text-align: right;\">\n",
       "      <th></th>\n",
       "      <th>CRIM</th>\n",
       "      <th>ZN</th>\n",
       "      <th>INDUS</th>\n",
       "      <th>CHAS</th>\n",
       "      <th>NOX</th>\n",
       "      <th>RM</th>\n",
       "      <th>AGE</th>\n",
       "      <th>DIS</th>\n",
       "      <th>RAD</th>\n",
       "      <th>TAX</th>\n",
       "      <th>PTRATIO</th>\n",
       "      <th>B</th>\n",
       "      <th>LSTAT</th>\n",
       "      <th>MEDV</th>\n",
       "    </tr>\n",
       "  </thead>\n",
       "  <tbody>\n",
       "    <tr>\n",
       "      <th>0</th>\n",
       "      <td>0.00632</td>\n",
       "      <td>18.0</td>\n",
       "      <td>2.31</td>\n",
       "      <td>0</td>\n",
       "      <td>0.538</td>\n",
       "      <td>6.575</td>\n",
       "      <td>65.2</td>\n",
       "      <td>4.0900</td>\n",
       "      <td>1</td>\n",
       "      <td>296</td>\n",
       "      <td>15.3</td>\n",
       "      <td>396.9</td>\n",
       "      <td>4.98</td>\n",
       "      <td>24.0</td>\n",
       "    </tr>\n",
       "    <tr>\n",
       "      <th>1</th>\n",
       "      <td>0.02731</td>\n",
       "      <td>0.0</td>\n",
       "      <td>7.07</td>\n",
       "      <td>0</td>\n",
       "      <td>0.469</td>\n",
       "      <td>6.421</td>\n",
       "      <td>78.9</td>\n",
       "      <td>4.9671</td>\n",
       "      <td>2</td>\n",
       "      <td>242</td>\n",
       "      <td>17.8</td>\n",
       "      <td>396.9</td>\n",
       "      <td>9.14</td>\n",
       "      <td>21.6</td>\n",
       "    </tr>\n",
       "  </tbody>\n",
       "</table>\n",
       "</div>"
      ],
      "text/plain": [
       "      CRIM    ZN  INDUS  CHAS    NOX     RM   AGE     DIS  RAD  TAX  PTRATIO  \\\n",
       "0  0.00632  18.0   2.31     0  0.538  6.575  65.2  4.0900    1  296     15.3   \n",
       "1  0.02731   0.0   7.07     0  0.469  6.421  78.9  4.9671    2  242     17.8   \n",
       "\n",
       "       B  LSTAT  MEDV  \n",
       "0  396.9   4.98  24.0  \n",
       "1  396.9   9.14  21.6  "
      ]
     },
     "execution_count": 2,
     "metadata": {},
     "output_type": "execute_result"
    }
   ],
   "source": [
    "data = pd.read_csv(load_boston()['filename'], skiprows=1)\n",
    "data.head(2)"
   ]
  },
  {
   "cell_type": "code",
   "execution_count": null,
   "id": "4da17817",
   "metadata": {},
   "outputs": [],
   "source": [
    "print(load_boston()['DESCR'])"
   ]
  },
  {
   "cell_type": "code",
   "execution_count": null,
   "id": "95251a09",
   "metadata": {
    "scrolled": true
   },
   "outputs": [],
   "source": [
    "#Проверим, есть ли пропуски в датасете\n",
    "data.info()"
   ]
  },
  {
   "cell_type": "code",
   "execution_count": null,
   "id": "6f1934c5",
   "metadata": {},
   "outputs": [],
   "source": [
    "data.isnull().sum()"
   ]
  },
  {
   "cell_type": "code",
   "execution_count": null,
   "id": "f96f3658",
   "metadata": {},
   "outputs": [],
   "source": [
    "#Посмотрим, сколько всего семплов и признаков\n",
    "data.shape"
   ]
  },
  {
   "cell_type": "code",
   "execution_count": 3,
   "id": "3ba55070",
   "metadata": {},
   "outputs": [],
   "source": [
    "#Сделаем функцию линейной регрессии\n",
    "def get_score(X,y, random_seed=42, model=None):\n",
    "    if model is None:\n",
    "        model = LinearRegression()\n",
    "        X_train, X_test, y_train, y_test = train_test_split(X, y, test_size=0.3, random_state=random_seed )  \n",
    "        model.fit(X_train, y_train)\n",
    "    return model.score(X_test, y_test)"
   ]
  },
  {
   "cell_type": "code",
   "execution_count": 4,
   "id": "e023ec7d",
   "metadata": {},
   "outputs": [],
   "source": [
    "#Для поиска выбросов будем использовать boxplot\n",
    "\n",
    "def get_boxplot(X, columns=[]):\n",
    "    for i in columns:\n",
    "        sns.boxplot(x=X[i])\n",
    "        pass  "
   ]
  },
  {
   "cell_type": "code",
   "execution_count": 5,
   "id": "fbc02c78",
   "metadata": {},
   "outputs": [],
   "source": [
    "#Сделаем ф-ю обработки категориальных переменных \n",
    "\n",
    "def get_one_hot(X, cols):\n",
    "    for each in cols:\n",
    "        dummies = pd.get_dummies(X[each], prefix=each, drop_first=False)\n",
    "        X = pd.concat([X, dummies], axis=1)\n",
    "    return X"
   ]
  },
  {
   "cell_type": "code",
   "execution_count": 6,
   "id": "c4cd6030",
   "metadata": {},
   "outputs": [
    {
     "data": {
      "text/plain": [
       "Index(['CRIM', 'ZN', 'INDUS', 'CHAS', 'NOX', 'RM', 'AGE', 'DIS', 'RAD', 'TAX',\n",
       "       'PTRATIO', 'B', 'LSTAT', 'MEDV'],\n",
       "      dtype='object')"
      ]
     },
     "execution_count": 6,
     "metadata": {},
     "output_type": "execute_result"
    }
   ],
   "source": [
    "#Какие колонки вообще есть\n",
    "data.columns"
   ]
  },
  {
   "cell_type": "code",
   "execution_count": 6,
   "id": "2d967d6b",
   "metadata": {},
   "outputs": [],
   "source": [
    "#Отберем колонки для первоначальной оценки модели\n",
    "initial_columns = ['CRIM', 'ZN', 'INDUS', 'CHAS', 'NOX', 'RM', 'AGE', 'DIS', 'RAD', 'TAX',\n",
    "       'PTRATIO', 'B', 'LSTAT']"
   ]
  },
  {
   "cell_type": "code",
   "execution_count": 7,
   "id": "47994dfb",
   "metadata": {},
   "outputs": [
    {
     "name": "stdout",
     "output_type": "stream",
     "text": [
      "Без доп обработки по всем признакам точность нашей модели: 71.0%\n"
     ]
    },
    {
     "data": {
      "text/plain": [
       "0.7112"
      ]
     },
     "execution_count": 7,
     "metadata": {},
     "output_type": "execute_result"
    }
   ],
   "source": [
    "initial_score = get_score(data[initial_columns], data['MEDV'])\n",
    "print(f'Без доп обработки по всем признакам точность нашей модели: {initial_score.round(2)*100}%')\n",
    "initial_score.round(4)"
   ]
  },
  {
   "cell_type": "markdown",
   "id": "c4191ff4",
   "metadata": {},
   "source": [
    "## Начнем улучшать нашу модель"
   ]
  },
  {
   "cell_type": "code",
   "execution_count": 9,
   "id": "bb7eb07c",
   "metadata": {},
   "outputs": [
    {
     "data": {
      "text/plain": [
       "<AxesSubplot:>"
      ]
     },
     "execution_count": 9,
     "metadata": {},
     "output_type": "execute_result"
    },
    {
     "data": {
      "image/png": "[encoded data removed]",
      "text/plain": [
       "<Figure size 432x288 with 2 Axes>"
      ]
     },
     "metadata": {
      "needs_background": "light"
     },
     "output_type": "display_data"
    }
   ],
   "source": [
    "#Посмотрим корреляцию между параметрами \n",
    "correlation_matrix = data.corr().round(1)\n",
    "sns.heatmap(data=correlation_matrix, annot=True)"
   ]
  },
  {
   "cell_type": "markdown",
   "id": "36785ee8",
   "metadata": {},
   "source": [
    "Видим, что с парметром MEDV сильно коррелирует параметр LSTAT и RM. Значит они точно должно войти в модель"
   ]
  },
  {
   "cell_type": "code",
   "execution_count": null,
   "id": "09c96594",
   "metadata": {},
   "outputs": [],
   "source": []
  },
  {
   "cell_type": "code",
   "execution_count": 8,
   "id": "94c0ce76",
   "metadata": {},
   "outputs": [
    {
     "data": {
      "text/html": [
       "<div>\n",
       "<style scoped>\n",
       "    .dataframe tbody tr th:only-of-type {\n",
       "        vertical-align: middle;\n",
       "    }\n",
       "\n",
       "    .dataframe tbody tr th {\n",
       "        vertical-align: top;\n",
       "    }\n",
       "\n",
       "    .dataframe thead th {\n",
       "        text-align: right;\n",
       "    }\n",
       "</style>\n",
       "<table border=\"1\" class=\"dataframe\">\n",
       "  <thead>\n",
       "    <tr style=\"text-align: right;\">\n",
       "      <th></th>\n",
       "      <th>CRIM</th>\n",
       "      <th>ZN</th>\n",
       "      <th>INDUS</th>\n",
       "      <th>CHAS</th>\n",
       "      <th>NOX</th>\n",
       "      <th>RM</th>\n",
       "      <th>DIS</th>\n",
       "      <th>RAD</th>\n",
       "      <th>TAX</th>\n",
       "      <th>B</th>\n",
       "      <th>LSTAT</th>\n",
       "      <th>MEDV</th>\n",
       "      <th>new_age</th>\n",
       "      <th>new_PTRATIO</th>\n",
       "    </tr>\n",
       "  </thead>\n",
       "  <tbody>\n",
       "    <tr>\n",
       "      <th>0</th>\n",
       "      <td>0.00632</td>\n",
       "      <td>18.0</td>\n",
       "      <td>2.31</td>\n",
       "      <td>0</td>\n",
       "      <td>0.538</td>\n",
       "      <td>6.575</td>\n",
       "      <td>4.09</td>\n",
       "      <td>1</td>\n",
       "      <td>296</td>\n",
       "      <td>396.9</td>\n",
       "      <td>4.98</td>\n",
       "      <td>24.0</td>\n",
       "      <td>6.0</td>\n",
       "      <td>1.5</td>\n",
       "    </tr>\n",
       "  </tbody>\n",
       "</table>\n",
       "</div>"
      ],
      "text/plain": [
       "      CRIM    ZN  INDUS  CHAS    NOX     RM   DIS  RAD  TAX      B  LSTAT  \\\n",
       "0  0.00632  18.0   2.31     0  0.538  6.575  4.09    1  296  396.9   4.98   \n",
       "\n",
       "   MEDV  new_age  new_PTRATIO  \n",
       "0  24.0      6.0          1.5  "
      ]
     },
     "execution_count": 8,
     "metadata": {},
     "output_type": "execute_result"
    }
   ],
   "source": [
    "#В переменной возраст очень много значений. \n",
    "#Разделим на 10 и округлим вниз для того, чтобы уменьшить разброс (1-10)\n",
    "#Аналогичное уменьшение размерности сделаем для PTRATIO and LSTAT\n",
    "#Исходные колонки не нужны и их можно удалить\n",
    "data['new_age'] = np.floor(data['AGE'] / 10)\n",
    "data['new_PTRATIO'] = round(data['PTRATIO'] / 10, 1)\n",
    "data.drop(columns = ['AGE'], inplace = True)\n",
    "data.drop(columns = ['PTRATIO'], inplace = True)\n",
    "new_data = data\n",
    "new_data.head(1)"
   ]
  },
  {
   "cell_type": "code",
   "execution_count": 9,
   "id": "43309625",
   "metadata": {},
   "outputs": [
    {
     "data": {
      "text/html": [
       "<div>\n",
       "<style scoped>\n",
       "    .dataframe tbody tr th:only-of-type {\n",
       "        vertical-align: middle;\n",
       "    }\n",
       "\n",
       "    .dataframe tbody tr th {\n",
       "        vertical-align: top;\n",
       "    }\n",
       "\n",
       "    .dataframe thead th {\n",
       "        text-align: right;\n",
       "    }\n",
       "</style>\n",
       "<table border=\"1\" class=\"dataframe\">\n",
       "  <thead>\n",
       "    <tr style=\"text-align: right;\">\n",
       "      <th></th>\n",
       "      <th>CRIM</th>\n",
       "      <th>ZN</th>\n",
       "      <th>INDUS</th>\n",
       "      <th>CHAS</th>\n",
       "      <th>NOX</th>\n",
       "      <th>RM</th>\n",
       "      <th>DIS</th>\n",
       "      <th>RAD</th>\n",
       "      <th>TAX</th>\n",
       "      <th>B</th>\n",
       "      <th>...</th>\n",
       "      <th>new_PTRATIO_1.3</th>\n",
       "      <th>new_PTRATIO_1.4</th>\n",
       "      <th>new_PTRATIO_1.5</th>\n",
       "      <th>new_PTRATIO_1.6</th>\n",
       "      <th>new_PTRATIO_1.7</th>\n",
       "      <th>new_PTRATIO_1.8</th>\n",
       "      <th>new_PTRATIO_1.9</th>\n",
       "      <th>new_PTRATIO_2.0</th>\n",
       "      <th>new_PTRATIO_2.1</th>\n",
       "      <th>new_PTRATIO_2.2</th>\n",
       "    </tr>\n",
       "  </thead>\n",
       "  <tbody>\n",
       "    <tr>\n",
       "      <th>0</th>\n",
       "      <td>0.00632</td>\n",
       "      <td>18.0</td>\n",
       "      <td>2.31</td>\n",
       "      <td>0</td>\n",
       "      <td>0.538</td>\n",
       "      <td>6.575</td>\n",
       "      <td>4.09</td>\n",
       "      <td>1</td>\n",
       "      <td>296</td>\n",
       "      <td>396.9</td>\n",
       "      <td>...</td>\n",
       "      <td>0</td>\n",
       "      <td>0</td>\n",
       "      <td>1</td>\n",
       "      <td>0</td>\n",
       "      <td>0</td>\n",
       "      <td>0</td>\n",
       "      <td>0</td>\n",
       "      <td>0</td>\n",
       "      <td>0</td>\n",
       "      <td>0</td>\n",
       "    </tr>\n",
       "  </tbody>\n",
       "</table>\n",
       "<p>1 rows × 33 columns</p>\n",
       "</div>"
      ],
      "text/plain": [
       "      CRIM    ZN  INDUS  CHAS    NOX     RM   DIS  RAD  TAX      B  ...  \\\n",
       "0  0.00632  18.0   2.31     0  0.538  6.575  4.09    1  296  396.9  ...   \n",
       "\n",
       "   new_PTRATIO_1.3  new_PTRATIO_1.4  new_PTRATIO_1.5  new_PTRATIO_1.6  \\\n",
       "0                0                0                1                0   \n",
       "\n",
       "   new_PTRATIO_1.7  new_PTRATIO_1.8  new_PTRATIO_1.9  new_PTRATIO_2.0  \\\n",
       "0                0                0                0                0   \n",
       "\n",
       "   new_PTRATIO_2.1  new_PTRATIO_2.2  \n",
       "0                0                0  \n",
       "\n",
       "[1 rows x 33 columns]"
      ]
     },
     "execution_count": 9,
     "metadata": {},
     "output_type": "execute_result"
    }
   ],
   "source": [
    "#Новые колокни нужно перевести в категориальные переменные через one_hot enconding\n",
    "new_data = get_one_hot(new_data,['new_age'])\n",
    "new_data = get_one_hot(new_data,['new_PTRATIO'])\n",
    "new_data.drop(columns = ['new_age'], inplace = True)\n",
    "new_data.drop(columns = ['new_PTRATIO'], inplace = True)\n",
    "new_data.head(1)"
   ]
  },
  {
   "cell_type": "code",
   "execution_count": 10,
   "id": "9379c843",
   "metadata": {},
   "outputs": [
    {
     "name": "stdout",
     "output_type": "stream",
     "text": [
      "После обработки точность нашей модели составляет: 73.0%\n",
      "Она улучшилась на 2.0% \n"
     ]
    }
   ],
   "source": [
    "X = list(new_data.columns)\n",
    "X.remove('MEDV')\n",
    "y = new_data['MEDV']\n",
    "new_score = get_score(new_data[X], y)\n",
    "print(f'После обработки точность нашей модели составляет: {new_score.round(2)*100}%')\n",
    "print(f'Она улучшилась на {round(new_score - initial_score,2)*100}% ')"
   ]
  },
  {
   "cell_type": "markdown",
   "id": "8ea48263",
   "metadata": {},
   "source": [
    "## Попробуем еще улучшить нашу модель"
   ]
  },
  {
   "cell_type": "code",
   "execution_count": 13,
   "id": "58a65cb9",
   "metadata": {},
   "outputs": [
    {
     "data": {
      "image/png": "[encoded data removed]",
      "text/plain": [
       "<Figure size 432x288 with 1 Axes>"
      ]
     },
     "metadata": {
      "needs_background": "light"
     },
     "output_type": "display_data"
    }
   ],
   "source": [
    "#выше мы наблюдали, что переменная LSTAT очень сильно коррелирует с нашей целевой переменной\n",
    "#Мы видим большой разброс и что-то похожее на выбросы (шум)\n",
    "\n",
    "get_boxplot(new_data, ['LSTAT'])\n"
   ]
  },
  {
   "cell_type": "code",
   "execution_count": null,
   "id": "6e1f37e8",
   "metadata": {},
   "outputs": [],
   "source": [
    "#Удалять мы не будем шум, а сделаем ф-ю и уменьшим размерность"
   ]
  },
  {
   "cell_type": "code",
   "execution_count": 11,
   "id": "822bd692",
   "metadata": {},
   "outputs": [],
   "source": [
    "def transform_func(x):\n",
    "    if x['LSTAT'] < 100 and x['LSTAT'] >= 50:\n",
    "        return f'from 100% to 50%'\n",
    "    if x['LSTAT'] < 50 and x['LSTAT'] >= 40:\n",
    "        return f'from 50% to 40%'\n",
    "    if x['LSTAT'] < 40 and x['LSTAT'] >= 30:\n",
    "        return f'from 40% to 30%'\n",
    "    if x['LSTAT'] < 30 and x['LSTAT'] >= 20:\n",
    "        return f'from 30% to 20%'\n",
    "    if x['LSTAT'] < 20 and x['LSTAT'] >= 15:\n",
    "        return f'from 20% to 15%'\n",
    "    if x['LSTAT'] < 15 and x['LSTAT'] >= 10:\n",
    "        return f'from 15% to 10%'\n",
    "    if x['LSTAT'] < 10 and x['LSTAT'] >= 5:\n",
    "        return f'from 10% to 5%'\n",
    "    if x['LSTAT'] < 5:\n",
    "        return f'Less then 5%'"
   ]
  },
  {
   "cell_type": "code",
   "execution_count": 12,
   "id": "8987d73a",
   "metadata": {},
   "outputs": [
    {
     "data": {
      "text/html": [
       "<div>\n",
       "<style scoped>\n",
       "    .dataframe tbody tr th:only-of-type {\n",
       "        vertical-align: middle;\n",
       "    }\n",
       "\n",
       "    .dataframe tbody tr th {\n",
       "        vertical-align: top;\n",
       "    }\n",
       "\n",
       "    .dataframe thead th {\n",
       "        text-align: right;\n",
       "    }\n",
       "</style>\n",
       "<table border=\"1\" class=\"dataframe\">\n",
       "  <thead>\n",
       "    <tr style=\"text-align: right;\">\n",
       "      <th></th>\n",
       "      <th>CRIM</th>\n",
       "      <th>ZN</th>\n",
       "      <th>INDUS</th>\n",
       "      <th>CHAS</th>\n",
       "      <th>NOX</th>\n",
       "      <th>RM</th>\n",
       "      <th>DIS</th>\n",
       "      <th>RAD</th>\n",
       "      <th>TAX</th>\n",
       "      <th>B</th>\n",
       "      <th>...</th>\n",
       "      <th>new_PTRATIO_1.9</th>\n",
       "      <th>new_PTRATIO_2.0</th>\n",
       "      <th>new_PTRATIO_2.1</th>\n",
       "      <th>new_PTRATIO_2.2</th>\n",
       "      <th>new_LSTAT_Less then 5%</th>\n",
       "      <th>new_LSTAT_from 10% to 5%</th>\n",
       "      <th>new_LSTAT_from 15% to 10%</th>\n",
       "      <th>new_LSTAT_from 20% to 15%</th>\n",
       "      <th>new_LSTAT_from 30% to 20%</th>\n",
       "      <th>new_LSTAT_from 40% to 30%</th>\n",
       "    </tr>\n",
       "  </thead>\n",
       "  <tbody>\n",
       "    <tr>\n",
       "      <th>0</th>\n",
       "      <td>0.00632</td>\n",
       "      <td>18.0</td>\n",
       "      <td>2.31</td>\n",
       "      <td>0</td>\n",
       "      <td>0.538</td>\n",
       "      <td>6.575</td>\n",
       "      <td>4.09</td>\n",
       "      <td>1</td>\n",
       "      <td>296</td>\n",
       "      <td>396.9</td>\n",
       "      <td>...</td>\n",
       "      <td>0</td>\n",
       "      <td>0</td>\n",
       "      <td>0</td>\n",
       "      <td>0</td>\n",
       "      <td>1</td>\n",
       "      <td>0</td>\n",
       "      <td>0</td>\n",
       "      <td>0</td>\n",
       "      <td>0</td>\n",
       "      <td>0</td>\n",
       "    </tr>\n",
       "  </tbody>\n",
       "</table>\n",
       "<p>1 rows × 38 columns</p>\n",
       "</div>"
      ],
      "text/plain": [
       "      CRIM    ZN  INDUS  CHAS    NOX     RM   DIS  RAD  TAX      B  ...  \\\n",
       "0  0.00632  18.0   2.31     0  0.538  6.575  4.09    1  296  396.9  ...   \n",
       "\n",
       "   new_PTRATIO_1.9  new_PTRATIO_2.0  new_PTRATIO_2.1  new_PTRATIO_2.2  \\\n",
       "0                0                0                0                0   \n",
       "\n",
       "   new_LSTAT_Less then 5%  new_LSTAT_from 10% to 5%  \\\n",
       "0                       1                         0   \n",
       "\n",
       "   new_LSTAT_from 15% to 10%  new_LSTAT_from 20% to 15%  \\\n",
       "0                          0                          0   \n",
       "\n",
       "   new_LSTAT_from 30% to 20%  new_LSTAT_from 40% to 30%  \n",
       "0                          0                          0  \n",
       "\n",
       "[1 rows x 38 columns]"
      ]
     },
     "execution_count": 12,
     "metadata": {},
     "output_type": "execute_result"
    }
   ],
   "source": [
    "#Используем нашу ф-ю, удаляем исходный столбец и делаем категориальную переменную\n",
    "new_data2 = new_data\n",
    "new_data2[\"new_LSTAT\"] = new_data2.apply(transform_func, axis =1)\n",
    "new_data2.drop(columns = ['LSTAT'], inplace = True)\n",
    "new_data2 = get_one_hot(new_data2, ['new_LSTAT'])\n",
    "new_data2.drop(columns = ['new_LSTAT'], inplace = True)\n",
    "new_data2.head(1)"
   ]
  },
  {
   "cell_type": "code",
   "execution_count": 17,
   "id": "43610c41",
   "metadata": {},
   "outputs": [
    {
     "name": "stdout",
     "output_type": "stream",
     "text": [
      "После обработки точность нашей модели составляет: 76.0%\n",
      "Она улучшилась на 5.0% \n"
     ]
    }
   ],
   "source": [
    "X = list(new_data2.columns)\n",
    "X.remove('MEDV')\n",
    "y = new_data2['MEDV']\n",
    "score_2 = get_score(new_data2[X], y)\n",
    "print(f'После обработки точность нашей модели составляет: {score_2.round(2)*100}%')\n",
    "print(f'Она улучшилась на {round(score_2 - initial_score,2)*100}% ')"
   ]
  },
  {
   "cell_type": "code",
   "execution_count": null,
   "id": "3ea6297e",
   "metadata": {},
   "outputs": [],
   "source": []
  },
  {
   "cell_type": "markdown",
   "id": "d95bc86e",
   "metadata": {},
   "source": [
    "## Будем еще улучшать"
   ]
  },
  {
   "cell_type": "code",
   "execution_count": 16,
   "id": "3a222b69",
   "metadata": {},
   "outputs": [
    {
     "data": {
      "text/html": [
       "<div>\n",
       "<style scoped>\n",
       "    .dataframe tbody tr th:only-of-type {\n",
       "        vertical-align: middle;\n",
       "    }\n",
       "\n",
       "    .dataframe tbody tr th {\n",
       "        vertical-align: top;\n",
       "    }\n",
       "\n",
       "    .dataframe thead th {\n",
       "        text-align: right;\n",
       "    }\n",
       "</style>\n",
       "<table border=\"1\" class=\"dataframe\">\n",
       "  <thead>\n",
       "    <tr style=\"text-align: right;\">\n",
       "      <th></th>\n",
       "      <th>CRIM</th>\n",
       "      <th>ZN</th>\n",
       "      <th>INDUS</th>\n",
       "      <th>CHAS</th>\n",
       "      <th>NOX</th>\n",
       "      <th>DIS</th>\n",
       "      <th>RAD</th>\n",
       "      <th>TAX</th>\n",
       "      <th>B</th>\n",
       "      <th>MEDV</th>\n",
       "      <th>...</th>\n",
       "      <th>new_LSTAT_from 15% to 10%</th>\n",
       "      <th>new_LSTAT_from 20% to 15%</th>\n",
       "      <th>new_LSTAT_from 30% to 20%</th>\n",
       "      <th>new_LSTAT_from 40% to 30%</th>\n",
       "      <th>rooms_3.0</th>\n",
       "      <th>rooms_4.0</th>\n",
       "      <th>rooms_5.0</th>\n",
       "      <th>rooms_6.0</th>\n",
       "      <th>rooms_7.0</th>\n",
       "      <th>rooms_8.0</th>\n",
       "    </tr>\n",
       "  </thead>\n",
       "  <tbody>\n",
       "    <tr>\n",
       "      <th>0</th>\n",
       "      <td>0.00632</td>\n",
       "      <td>18.0</td>\n",
       "      <td>2.31</td>\n",
       "      <td>0</td>\n",
       "      <td>0.538</td>\n",
       "      <td>4.09</td>\n",
       "      <td>1</td>\n",
       "      <td>296</td>\n",
       "      <td>396.9</td>\n",
       "      <td>24.0</td>\n",
       "      <td>...</td>\n",
       "      <td>0</td>\n",
       "      <td>0</td>\n",
       "      <td>0</td>\n",
       "      <td>0</td>\n",
       "      <td>0</td>\n",
       "      <td>0</td>\n",
       "      <td>0</td>\n",
       "      <td>1</td>\n",
       "      <td>0</td>\n",
       "      <td>0</td>\n",
       "    </tr>\n",
       "  </tbody>\n",
       "</table>\n",
       "<p>1 rows × 43 columns</p>\n",
       "</div>"
      ],
      "text/plain": [
       "      CRIM    ZN  INDUS  CHAS    NOX   DIS  RAD  TAX      B  MEDV  ...  \\\n",
       "0  0.00632  18.0   2.31     0  0.538  4.09    1  296  396.9  24.0  ...   \n",
       "\n",
       "   new_LSTAT_from 15% to 10%  new_LSTAT_from 20% to 15%  \\\n",
       "0                          0                          0   \n",
       "\n",
       "   new_LSTAT_from 30% to 20%  new_LSTAT_from 40% to 30%  rooms_3.0  rooms_4.0  \\\n",
       "0                          0                          0          0          0   \n",
       "\n",
       "   rooms_5.0  rooms_6.0  rooms_7.0  rooms_8.0  \n",
       "0          0          1          0          0  \n",
       "\n",
       "[1 rows x 43 columns]"
      ]
     },
     "execution_count": 16,
     "metadata": {},
     "output_type": "execute_result"
    }
   ],
   "source": [
    "#Преобразуем ср кол-во комнат\n",
    "new_data3 = new_data2\n",
    "new_data3['rooms'] = np.floor(new_data3['RM'])\n",
    "new_data3 = get_one_hot(new_data3, ['rooms'])\n",
    "new_data3.drop(columns = ['RM'], inplace = True)\n",
    "new_data3.drop(columns = ['rooms'], inplace = True)\n",
    "new_data3.head(1)"
   ]
  },
  {
   "cell_type": "code",
   "execution_count": 18,
   "id": "d5dd715a",
   "metadata": {},
   "outputs": [
    {
     "name": "stdout",
     "output_type": "stream",
     "text": [
      "После обработки точность нашей модели составляет: 80.0%\n",
      "Она улучшилась на 9.0% \n"
     ]
    }
   ],
   "source": [
    "X = list(new_data3.columns)\n",
    "X.remove('MEDV')\n",
    "y = new_data3['MEDV']\n",
    "score_3 = get_score(new_data3[X], y)\n",
    "print(f'После обработки точность нашей модели составляет: {score_3.round(2)*100}%')\n",
    "print(f'Она улучшилась на {round(score_3 - initial_score,2)*100}% ')"
   ]
  },
  {
   "cell_type": "markdown",
   "id": "85c6eadd",
   "metadata": {},
   "source": [
    "## Мы видим, что точность улучшилась на 9% от первоначального замера\n",
    "## Попробуем улучшить еще"
   ]
  },
  {
   "cell_type": "code",
   "execution_count": 24,
   "id": "caaa2c39",
   "metadata": {},
   "outputs": [
    {
     "data": {
      "text/html": [
       "<div>\n",
       "<style scoped>\n",
       "    .dataframe tbody tr th:only-of-type {\n",
       "        vertical-align: middle;\n",
       "    }\n",
       "\n",
       "    .dataframe tbody tr th {\n",
       "        vertical-align: top;\n",
       "    }\n",
       "\n",
       "    .dataframe thead th {\n",
       "        text-align: right;\n",
       "    }\n",
       "</style>\n",
       "<table border=\"1\" class=\"dataframe\">\n",
       "  <thead>\n",
       "    <tr style=\"text-align: right;\">\n",
       "      <th></th>\n",
       "      <th>CRIM</th>\n",
       "      <th>ZN</th>\n",
       "      <th>INDUS</th>\n",
       "      <th>CHAS</th>\n",
       "      <th>NOX</th>\n",
       "      <th>RM</th>\n",
       "      <th>DIS</th>\n",
       "      <th>RAD</th>\n",
       "      <th>TAX</th>\n",
       "      <th>B</th>\n",
       "      <th>LSTAT</th>\n",
       "      <th>MEDV</th>\n",
       "      <th>new_age</th>\n",
       "      <th>new_PTRATIO</th>\n",
       "    </tr>\n",
       "  </thead>\n",
       "  <tbody>\n",
       "    <tr>\n",
       "      <th>351</th>\n",
       "      <td>0.07950</td>\n",
       "      <td>60.0</td>\n",
       "      <td>1.69</td>\n",
       "      <td>0</td>\n",
       "      <td>0.411</td>\n",
       "      <td>6.579</td>\n",
       "      <td>10.7103</td>\n",
       "      <td>4</td>\n",
       "      <td>411</td>\n",
       "      <td>370.78</td>\n",
       "      <td>5.49</td>\n",
       "      <td>24.1</td>\n",
       "      <td>3.0</td>\n",
       "      <td>1.8</td>\n",
       "    </tr>\n",
       "    <tr>\n",
       "      <th>352</th>\n",
       "      <td>0.07244</td>\n",
       "      <td>60.0</td>\n",
       "      <td>1.69</td>\n",
       "      <td>0</td>\n",
       "      <td>0.411</td>\n",
       "      <td>5.884</td>\n",
       "      <td>10.7103</td>\n",
       "      <td>4</td>\n",
       "      <td>411</td>\n",
       "      <td>392.33</td>\n",
       "      <td>7.79</td>\n",
       "      <td>18.6</td>\n",
       "      <td>1.0</td>\n",
       "      <td>1.8</td>\n",
       "    </tr>\n",
       "    <tr>\n",
       "      <th>353</th>\n",
       "      <td>0.01709</td>\n",
       "      <td>90.0</td>\n",
       "      <td>2.02</td>\n",
       "      <td>0</td>\n",
       "      <td>0.410</td>\n",
       "      <td>6.728</td>\n",
       "      <td>12.1265</td>\n",
       "      <td>5</td>\n",
       "      <td>187</td>\n",
       "      <td>384.46</td>\n",
       "      <td>4.50</td>\n",
       "      <td>30.1</td>\n",
       "      <td>3.0</td>\n",
       "      <td>1.7</td>\n",
       "    </tr>\n",
       "    <tr>\n",
       "      <th>354</th>\n",
       "      <td>0.04301</td>\n",
       "      <td>80.0</td>\n",
       "      <td>1.91</td>\n",
       "      <td>0</td>\n",
       "      <td>0.413</td>\n",
       "      <td>5.663</td>\n",
       "      <td>10.5857</td>\n",
       "      <td>4</td>\n",
       "      <td>334</td>\n",
       "      <td>382.80</td>\n",
       "      <td>8.05</td>\n",
       "      <td>18.2</td>\n",
       "      <td>2.0</td>\n",
       "      <td>2.2</td>\n",
       "    </tr>\n",
       "    <tr>\n",
       "      <th>355</th>\n",
       "      <td>0.10659</td>\n",
       "      <td>80.0</td>\n",
       "      <td>1.91</td>\n",
       "      <td>0</td>\n",
       "      <td>0.413</td>\n",
       "      <td>5.936</td>\n",
       "      <td>10.5857</td>\n",
       "      <td>4</td>\n",
       "      <td>334</td>\n",
       "      <td>376.04</td>\n",
       "      <td>5.57</td>\n",
       "      <td>20.6</td>\n",
       "      <td>1.0</td>\n",
       "      <td>2.2</td>\n",
       "    </tr>\n",
       "  </tbody>\n",
       "</table>\n",
       "</div>"
      ],
      "text/plain": [
       "        CRIM    ZN  INDUS  CHAS    NOX     RM      DIS  RAD  TAX       B  \\\n",
       "351  0.07950  60.0   1.69     0  0.411  6.579  10.7103    4  411  370.78   \n",
       "352  0.07244  60.0   1.69     0  0.411  5.884  10.7103    4  411  392.33   \n",
       "353  0.01709  90.0   2.02     0  0.410  6.728  12.1265    5  187  384.46   \n",
       "354  0.04301  80.0   1.91     0  0.413  5.663  10.5857    4  334  382.80   \n",
       "355  0.10659  80.0   1.91     0  0.413  5.936  10.5857    4  334  376.04   \n",
       "\n",
       "     LSTAT  MEDV  new_age  new_PTRATIO  \n",
       "351   5.49  24.1      3.0          1.8  \n",
       "352   7.79  18.6      1.0          1.8  \n",
       "353   4.50  30.1      3.0          1.7  \n",
       "354   8.05  18.2      2.0          2.2  \n",
       "355   5.57  20.6      1.0          2.2  "
      ]
     },
     "execution_count": 24,
     "metadata": {},
     "output_type": "execute_result"
    },
    {
     "data": {
      "image/png": "[encoded data removed]",
      "text/plain": [
       "<Figure size 432x288 with 1 Axes>"
      ]
     },
     "metadata": {
      "needs_background": "light"
     },
     "output_type": "display_data"
    }
   ],
   "source": [
    "#Мы видим выбросы, которые вносят шум. можем их исключить\n",
    "get_boxplot(data, [\"DIS\"])\n",
    "data.loc[data['DIS'] > 10].head(40)"
   ]
  },
  {
   "cell_type": "code",
   "execution_count": 42,
   "id": "2ad2c85e",
   "metadata": {},
   "outputs": [],
   "source": [
    "new_data4 = new_data3.loc[new_data3['DIS'] < 10]"
   ]
  },
  {
   "cell_type": "code",
   "execution_count": 43,
   "id": "073ed000",
   "metadata": {},
   "outputs": [
    {
     "name": "stdout",
     "output_type": "stream",
     "text": [
      "После обработки точность нашей модели составляет: 84.0%\n",
      "Она улучшилась на 13.0% \n"
     ]
    }
   ],
   "source": [
    "X = list(new_data4.columns)\n",
    "X.remove('MEDV')\n",
    "y = new_data4['MEDV']\n",
    "score_4 = get_score(new_data4[X], y)\n",
    "print(f'После обработки точность нашей модели составляет: {score_4.round(2)*100}%')\n",
    "print(f'Она улучшилась на {round(score_4 - initial_score,2)*100}% ')"
   ]
  },
  {
   "cell_type": "markdown",
   "id": "2b58f210",
   "metadata": {},
   "source": [
    "## ИТОГ: Мы смогли улучшить нашу модель на 13%"
   ]
  },
  {
   "cell_type": "code",
   "execution_count": null,
   "id": "562beff0",
   "metadata": {},
   "outputs": [],
   "source": []
  }
 ],
 "metadata": {
  "kernelspec": {
   "display_name": "Python 3",
   "language": "python",
   "name": "python3"
  },
  "language_info": {
   "codemirror_mode": {
    "name": "ipython",
    "version": 3
   },
   "file_extension": ".py",
   "mimetype": "text/x-python",
   "name": "python",
   "nbconvert_exporter": "python",
   "pygments_lexer": "ipython3",
   "version": "3.8.8"
  }
 },
 "nbformat": 4,
 "nbformat_minor": 5
}
