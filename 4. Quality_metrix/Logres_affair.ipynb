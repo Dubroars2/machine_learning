{
 "cells": [
  {
   "cell_type": "markdown",
   "metadata": {
    "id": "XOr5wZY5MeUh"
   },
   "source": [
    "### Модели разной сложности совершают разны ошибки обучения и ошибки обобщения"
   ]
  },
  {
   "cell_type": "markdown",
   "metadata": {
    "id": "7UMzHJ1YkjeG"
   },
   "source": [
    "Данные содержат признаки пользователей и целевую переменную affair - была ли связь на стороне"
   ]
  },
  {
   "cell_type": "code",
   "execution_count": 2,
   "metadata": {
    "id": "Z_Ahb43IkjeG"
   },
   "outputs": [],
   "source": [
    "import pandas as pd"
   ]
  },
  {
   "cell_type": "code",
   "execution_count": 6,
   "metadata": {
    "colab": {
     "base_uri": "https://localhost:8080/",
     "height": 204
    },
    "id": "mxzxCiyVkjeH",
    "outputId": "1d8273a6-e541-47c6-ac91-b0869e58222f"
   },
   "outputs": [
    {
     "data": {
      "text/html": [
       "<div>\n",
       "<style scoped>\n",
       "    .dataframe tbody tr th:only-of-type {\n",
       "        vertical-align: middle;\n",
       "    }\n",
       "\n",
       "    .dataframe tbody tr th {\n",
       "        vertical-align: top;\n",
       "    }\n",
       "\n",
       "    .dataframe thead th {\n",
       "        text-align: right;\n",
       "    }\n",
       "</style>\n",
       "<table border=\"1\" class=\"dataframe\">\n",
       "  <thead>\n",
       "    <tr style=\"text-align: right;\">\n",
       "      <th></th>\n",
       "      <th>rate_marriage</th>\n",
       "      <th>age</th>\n",
       "      <th>yrs_married</th>\n",
       "      <th>children</th>\n",
       "      <th>religious</th>\n",
       "      <th>educ</th>\n",
       "      <th>occupation</th>\n",
       "      <th>occupation_husb</th>\n",
       "      <th>affair</th>\n",
       "    </tr>\n",
       "  </thead>\n",
       "  <tbody>\n",
       "    <tr>\n",
       "      <th>0</th>\n",
       "      <td>3.0</td>\n",
       "      <td>32.0</td>\n",
       "      <td>9.0</td>\n",
       "      <td>3.0</td>\n",
       "      <td>3.0</td>\n",
       "      <td>17.0</td>\n",
       "      <td>2.0</td>\n",
       "      <td>5.0</td>\n",
       "      <td>1</td>\n",
       "    </tr>\n",
       "    <tr>\n",
       "      <th>1</th>\n",
       "      <td>3.0</td>\n",
       "      <td>27.0</td>\n",
       "      <td>13.0</td>\n",
       "      <td>3.0</td>\n",
       "      <td>1.0</td>\n",
       "      <td>14.0</td>\n",
       "      <td>3.0</td>\n",
       "      <td>4.0</td>\n",
       "      <td>1</td>\n",
       "    </tr>\n",
       "    <tr>\n",
       "      <th>2</th>\n",
       "      <td>4.0</td>\n",
       "      <td>22.0</td>\n",
       "      <td>2.5</td>\n",
       "      <td>0.0</td>\n",
       "      <td>1.0</td>\n",
       "      <td>16.0</td>\n",
       "      <td>3.0</td>\n",
       "      <td>5.0</td>\n",
       "      <td>1</td>\n",
       "    </tr>\n",
       "    <tr>\n",
       "      <th>3</th>\n",
       "      <td>4.0</td>\n",
       "      <td>37.0</td>\n",
       "      <td>16.5</td>\n",
       "      <td>4.0</td>\n",
       "      <td>3.0</td>\n",
       "      <td>16.0</td>\n",
       "      <td>5.0</td>\n",
       "      <td>5.0</td>\n",
       "      <td>1</td>\n",
       "    </tr>\n",
       "    <tr>\n",
       "      <th>4</th>\n",
       "      <td>5.0</td>\n",
       "      <td>27.0</td>\n",
       "      <td>9.0</td>\n",
       "      <td>1.0</td>\n",
       "      <td>1.0</td>\n",
       "      <td>14.0</td>\n",
       "      <td>3.0</td>\n",
       "      <td>4.0</td>\n",
       "      <td>1</td>\n",
       "    </tr>\n",
       "  </tbody>\n",
       "</table>\n",
       "</div>"
      ],
      "text/plain": [
       "   rate_marriage   age  yrs_married  children  religious  educ  occupation  \\\n",
       "0            3.0  32.0          9.0       3.0        3.0  17.0         2.0   \n",
       "1            3.0  27.0         13.0       3.0        1.0  14.0         3.0   \n",
       "2            4.0  22.0          2.5       0.0        1.0  16.0         3.0   \n",
       "3            4.0  37.0         16.5       4.0        3.0  16.0         5.0   \n",
       "4            5.0  27.0          9.0       1.0        1.0  14.0         3.0   \n",
       "\n",
       "   occupation_husb  affair  \n",
       "0              5.0       1  \n",
       "1              4.0       1  \n",
       "2              5.0       1  \n",
       "3              5.0       1  \n",
       "4              4.0       1  "
      ]
     },
     "execution_count": 6,
     "metadata": {},
     "output_type": "execute_result"
    }
   ],
   "source": [
    "#Данные - были ли у супругов контакты на стороне. Была ли свзязь или нет это у (affair)\n",
    "data = pd.read_csv('/Users/dubrov_arseniy/Desktop/Нетология/Data Scientist/ML/4. Quality_metrix/additional/affair_data.csv')\n",
    "data.head()"
   ]
  },
  {
   "cell_type": "code",
   "execution_count": null,
   "metadata": {
    "colab": {
     "base_uri": "https://localhost:8080/"
    },
    "id": "2mWvst0zkjeJ",
    "outputId": "2a3dc3ce-9f15-4a46-fd9c-871f540de364"
   },
   "outputs": [
    {
     "name": "stdout",
     "output_type": "stream",
     "text": [
      "<class 'pandas.core.frame.DataFrame'>\n",
      "RangeIndex: 6366 entries, 0 to 6365\n",
      "Data columns (total 9 columns):\n",
      " #   Column           Non-Null Count  Dtype  \n",
      "---  ------           --------------  -----  \n",
      " 0   rate_marriage    6366 non-null   float64\n",
      " 1   age              6366 non-null   float64\n",
      " 2   yrs_married      6366 non-null   float64\n",
      " 3   children         6366 non-null   float64\n",
      " 4   religious        6366 non-null   float64\n",
      " 5   educ             6366 non-null   float64\n",
      " 6   occupation       6366 non-null   float64\n",
      " 7   occupation_husb  6366 non-null   float64\n",
      " 8   affair           6366 non-null   int64  \n",
      "dtypes: float64(8), int64(1)\n",
      "memory usage: 447.7 KB\n"
     ]
    }
   ],
   "source": [
    "data.info()\n"
   ]
  },
  {
   "cell_type": "code",
   "execution_count": 7,
   "metadata": {
    "id": "PcnN4_h6Y42b"
   },
   "outputs": [],
   "source": [
    "from sklearn.model_selection import train_test_split"
   ]
  },
  {
   "cell_type": "code",
   "execution_count": 8,
   "metadata": {
    "id": "tDW0A_-jkjeJ"
   },
   "outputs": [],
   "source": [
    "from sklearn.linear_model import LogisticRegression\n",
    "from sklearn.tree import DecisionTreeClassifier #Классификатор на решающих деревьях (об этом в другой лекции)"
   ]
  },
  {
   "cell_type": "markdown",
   "metadata": {
    "id": "72hEok7skjeK"
   },
   "source": [
    "Формируем набор признаков и целевую переменную"
   ]
  },
  {
   "cell_type": "code",
   "execution_count": 9,
   "metadata": {
    "colab": {
     "base_uri": "https://localhost:8080/",
     "height": 111
    },
    "id": "wLUDdPPikjeK",
    "outputId": "97a7740d-23bd-4548-97ad-a0beb159d73a"
   },
   "outputs": [
    {
     "data": {
      "text/html": [
       "<div>\n",
       "<style scoped>\n",
       "    .dataframe tbody tr th:only-of-type {\n",
       "        vertical-align: middle;\n",
       "    }\n",
       "\n",
       "    .dataframe tbody tr th {\n",
       "        vertical-align: top;\n",
       "    }\n",
       "\n",
       "    .dataframe thead th {\n",
       "        text-align: right;\n",
       "    }\n",
       "</style>\n",
       "<table border=\"1\" class=\"dataframe\">\n",
       "  <thead>\n",
       "    <tr style=\"text-align: right;\">\n",
       "      <th></th>\n",
       "      <th>rate_marriage</th>\n",
       "      <th>age</th>\n",
       "      <th>yrs_married</th>\n",
       "      <th>children</th>\n",
       "      <th>religious</th>\n",
       "      <th>educ</th>\n",
       "      <th>occupation</th>\n",
       "      <th>occupation_husb</th>\n",
       "    </tr>\n",
       "  </thead>\n",
       "  <tbody>\n",
       "    <tr>\n",
       "      <th>0</th>\n",
       "      <td>3.0</td>\n",
       "      <td>32.0</td>\n",
       "      <td>9.0</td>\n",
       "      <td>3.0</td>\n",
       "      <td>3.0</td>\n",
       "      <td>17.0</td>\n",
       "      <td>2.0</td>\n",
       "      <td>5.0</td>\n",
       "    </tr>\n",
       "    <tr>\n",
       "      <th>1</th>\n",
       "      <td>3.0</td>\n",
       "      <td>27.0</td>\n",
       "      <td>13.0</td>\n",
       "      <td>3.0</td>\n",
       "      <td>1.0</td>\n",
       "      <td>14.0</td>\n",
       "      <td>3.0</td>\n",
       "      <td>4.0</td>\n",
       "    </tr>\n",
       "  </tbody>\n",
       "</table>\n",
       "</div>"
      ],
      "text/plain": [
       "   rate_marriage   age  yrs_married  children  religious  educ  occupation  \\\n",
       "0            3.0  32.0          9.0       3.0        3.0  17.0         2.0   \n",
       "1            3.0  27.0         13.0       3.0        1.0  14.0         3.0   \n",
       "\n",
       "   occupation_husb  \n",
       "0              5.0  \n",
       "1              4.0  "
      ]
     },
     "execution_count": 9,
     "metadata": {},
     "output_type": "execute_result"
    }
   ],
   "source": [
    "#Делим данные на признаки\n",
    "X = data[data.columns[:-1]]\n",
    "X.head(2)"
   ]
  },
  {
   "cell_type": "code",
   "execution_count": 10,
   "metadata": {
    "id": "d2_C0iZRkjeL"
   },
   "outputs": [],
   "source": [
    "#Определяем целевую переменную \n",
    "Y = data['affair']"
   ]
  },
  {
   "cell_type": "code",
   "execution_count": 11,
   "metadata": {
    "id": "Kx_hmHmzkjeL"
   },
   "outputs": [],
   "source": [
    "#Создадим модели лог регрессии и дерева\n",
    "model = LogisticRegression()\n",
    "model_tree = DecisionTreeClassifier()"
   ]
  },
  {
   "cell_type": "markdown",
   "metadata": {
    "id": "uc-9d7aMkjeL"
   },
   "source": [
    "Разбиваем данные на обучающую и тестовую выборки в соотношении 70 / 30"
   ]
  },
  {
   "cell_type": "code",
   "execution_count": 12,
   "metadata": {
    "id": "IZ1HwOMTkjeM"
   },
   "outputs": [],
   "source": [
    "X_train, X_test, Y_train, Y_test = train_test_split(X, Y, test_size = 0.3, random_state = 0)"
   ]
  },
  {
   "cell_type": "markdown",
   "metadata": {
    "id": "dBtVghoxkjeM"
   },
   "source": [
    "Обучаем модель"
   ]
  },
  {
   "cell_type": "code",
   "execution_count": 13,
   "metadata": {
    "colab": {
     "base_uri": "https://localhost:8080/"
    },
    "id": "ZQZAazXNkjeM",
    "outputId": "90210ec4-9771-4cd2-971d-c33c89a4624e"
   },
   "outputs": [
    {
     "data": {
      "text/plain": [
       "LogisticRegression()"
      ]
     },
     "execution_count": 13,
     "metadata": {},
     "output_type": "execute_result"
    }
   ],
   "source": [
    "# Обучаем модель лог регрессии\n",
    "model.fit(X_train, Y_train)"
   ]
  },
  {
   "cell_type": "code",
   "execution_count": 14,
   "metadata": {
    "colab": {
     "base_uri": "https://localhost:8080/"
    },
    "id": "4_n3CmHOKCs0",
    "outputId": "9415437f-dbdc-43f9-daa8-47661f276da1"
   },
   "outputs": [
    {
     "data": {
      "text/plain": [
       "DecisionTreeClassifier()"
      ]
     },
     "execution_count": 14,
     "metadata": {},
     "output_type": "execute_result"
    }
   ],
   "source": [
    "#Обучаем модель дерева\n",
    "model_tree.fit(X_train, Y_train)"
   ]
  },
  {
   "cell_type": "markdown",
   "metadata": {
    "id": "hXa8ETtnkjeM"
   },
   "source": [
    "Получаем прогнозные значения модели (переменная predictions)"
   ]
  },
  {
   "cell_type": "code",
   "execution_count": 15,
   "metadata": {
    "id": "MSjob2PqkjeN"
   },
   "outputs": [],
   "source": [
    "#Получаем прогнозные значения. Есть два вида. Просто предикт, который возвращаем конкретный класс, \n",
    "#и предикт проба вероятность быть отнесенным в класс. Человек из первой строки на 62,5% относится к первому классу.\n",
    "#То есть у него была связь на стороне \n",
    "predictions = model.predict_proba(X_test)"
   ]
  },
  {
   "cell_type": "code",
   "execution_count": 16,
   "metadata": {
    "colab": {
     "base_uri": "https://localhost:8080/"
    },
    "id": "V7ZJE78TgTp-",
    "outputId": "be28e209-eb39-41e5-fdf7-e27e8fceb081"
   },
   "outputs": [
    {
     "data": {
      "text/plain": [
       "array([[0.37442486, 0.62557514],\n",
       "       [0.92523133, 0.07476867]])"
      ]
     },
     "execution_count": 16,
     "metadata": {},
     "output_type": "execute_result"
    }
   ],
   "source": [
    "predictions[:2]"
   ]
  },
  {
   "cell_type": "code",
   "execution_count": 17,
   "metadata": {
    "colab": {
     "base_uri": "https://localhost:8080/"
    },
    "id": "hk3CqKqyKP6N",
    "outputId": "bb9ee0c1-434d-44fb-d1a6-50575aa44843"
   },
   "outputs": [
    {
     "data": {
      "text/plain": [
       "0.7235188509874326"
      ]
     },
     "execution_count": 17,
     "metadata": {},
     "output_type": "execute_result"
    }
   ],
   "source": [
    "#Считаем качество модели. Значение экруси, то есть доля верных угаданных ответов\n",
    "model.score(X_train, Y_train)"
   ]
  },
  {
   "cell_type": "code",
   "execution_count": 18,
   "metadata": {
    "colab": {
     "base_uri": "https://localhost:8080/"
    },
    "id": "P4naaDjVkjeN",
    "outputId": "a21f9a03-5979-40fe-e459-7b3ce4ca8ba9"
   },
   "outputs": [
    {
     "data": {
      "text/plain": [
       "0.7319371727748691"
      ]
     },
     "execution_count": 18,
     "metadata": {},
     "output_type": "execute_result"
    }
   ],
   "source": [
    "# Проверим на тех данных, которые наша модель не видела \n",
    "model.score(X_test, Y_test)"
   ]
  },
  {
   "cell_type": "code",
   "execution_count": 19,
   "metadata": {
    "scrolled": false
   },
   "outputs": [
    {
     "data": {
      "text/plain": [
       "<zip at 0x7fad480cd3c0>"
      ]
     },
     "execution_count": 19,
     "metadata": {},
     "output_type": "execute_result"
    }
   ],
   "source": [
    "# Посмотрим, как наша модель относит каждую строчку к классу\n",
    "# Первый столбец - вероятность быть отнесенным к первому классу \n",
    "# второй столбец - верные метки (класс)\n",
    "# Как рабоатет.Внутри модели устанавливается порог. К примеру. 0.5. Если выше, то 1, если ниже 0 \n",
    "zip(predictions[:, 1], Y_test)"
   ]
  },
  {
   "cell_type": "code",
   "execution_count": null,
   "metadata": {},
   "outputs": [],
   "source": []
  },
  {
   "cell_type": "code",
   "execution_count": 20,
   "metadata": {
    "colab": {
     "base_uri": "https://localhost:8080/"
    },
    "id": "DL958hULKTgb",
    "outputId": "5c9927d1-3703-401f-ad81-362c133bd829"
   },
   "outputs": [
    {
     "data": {
      "text/plain": [
       "0.9497307001795332"
      ]
     },
     "execution_count": 20,
     "metadata": {},
     "output_type": "execute_result"
    }
   ],
   "source": [
    "model_tree.score(X_train, Y_train)"
   ]
  },
  {
   "cell_type": "code",
   "execution_count": 21,
   "metadata": {
    "colab": {
     "base_uri": "https://localhost:8080/"
    },
    "id": "aYIN4pFjKTsm",
    "outputId": "4390e1af-7cb3-4067-b451-c236897e5209"
   },
   "outputs": [
    {
     "data": {
      "text/plain": [
       "0.6544502617801047"
      ]
     },
     "execution_count": 21,
     "metadata": {},
     "output_type": "execute_result"
    }
   ],
   "source": [
    "model_tree.score(X_test, Y_test)"
   ]
  },
  {
   "cell_type": "markdown",
   "metadata": {
    "id": "mYVrUlRVkjeP"
   },
   "source": [
    "### Оценка качества модели"
   ]
  },
  {
   "cell_type": "markdown",
   "metadata": {
    "id": "mflJ1OX6kjeP"
   },
   "source": [
    "Считаем accuracy последней модели"
   ]
  },
  {
   "cell_type": "code",
   "execution_count": 22,
   "metadata": {},
   "outputs": [],
   "source": [
    "tp = 0 # True positive\n",
    "fp = 0 # False positive\n",
    "fn = 0 # False negative\n",
    "tn = 0 # True negative\n",
    "\n",
    "#Берем модель случайного дерева и предсказываем тестовые данные\n",
    "\n",
    "predictions = model_tree.predict_proba( X_test )\n",
    "\n",
    "#Пройдемся по нашим предсказаниям (predictions[:, 1] и predicted_prob) и по нашим реальным данным (Y_test b actual)\n",
    "#Мы теперь хотим посчитать True, False positive and negative\n",
    "\n",
    "for predicted_prob, actual in zip( predictions[:, 1], Y_test ):    \n",
    "#В качестве порога берем верноятность 0,5   \n",
    "#Как работает. Мы смотрим, наша вероятность, которую мы предсказали, она больше чем 0,5 или нет\n",
    "\n",
    "    if predicted_prob >= 0.5:\n",
    "    #Ок, она больше. Тогда если наша предсказанная метка совпадает в актуальной, то пишем тру и заводим счетчик, добавляем 1\n",
    "        if actual == 1:\n",
    "            tp += 1\n",
    "        #если наша метка нулевая, то пока что мы сделали неверное предсказание положительного класса и добавляем 1 в false posotive\n",
    "        else:\n",
    "            fp += 1\n",
    "    #Аналогично если у нас вероятность меньше 0 , то мы снова проверяме нашу 1.   \n",
    "    else: \n",
    "    # Если мы предсказали 0, а реальной метки 1, то это fasle negative\n",
    "        \n",
    "        if actual == 1:\n",
    "            fn += 1\n",
    "    # Если мы предсказали 0, а реальной метки 0, то это true negative\n",
    "        else: \n",
    "            tn += 1\n",
    "    \n"
   ]
  },
  {
   "cell_type": "code",
   "execution_count": 23,
   "metadata": {
    "id": "4vJZdYnLkjeQ"
   },
   "outputs": [],
   "source": [
    "#Что-то другое, не из вебинара \n",
    "\n",
    "tp = 0 # True positive\n",
    "fp = 0 # False positive\n",
    "fn = 0 # False negative\n",
    "tn = 0 # True negative\n",
    "\n",
    "\n",
    "\n",
    "predictions = model.predict_proba( X_test )\n",
    "\n",
    "for predicted_prob, actual in zip( predictions[:, 1], Y_test ):    \n",
    "\n",
    "    if predicted_prob >= 0.5:\n",
    "        predicted = 1\n",
    "    else:\n",
    "        predicted = 0\n",
    "    \n",
    "    if predicted == 1:\n",
    "        if actual == 1:\n",
    "            tp += 1\n",
    "        else:\n",
    "            fp += 1\n",
    "    \n",
    "    else:\n",
    "        if actual == 1:\n",
    "            fn += 1\n",
    "        else:\n",
    "            tn += 1"
   ]
  },
  {
   "cell_type": "code",
   "execution_count": 26,
   "metadata": {
    "id": "tBb_IezUh4xL"
   },
   "outputs": [
    {
     "data": {
      "text/plain": [
       "array([1, 0, 0, ..., 1, 0, 1])"
      ]
     },
     "execution_count": 26,
     "metadata": {},
     "output_type": "execute_result"
    }
   ],
   "source": [
    "pred = model_tree.predict(X_test)\n",
    "pred"
   ]
  },
  {
   "cell_type": "code",
   "execution_count": 27,
   "metadata": {
    "colab": {
     "base_uri": "https://localhost:8080/"
    },
    "id": "37rrp_DfgjQX",
    "outputId": "87f51240-010e-4da6-9846-5cb396580f9f"
   },
   "outputs": [
    {
     "data": {
      "text/plain": [
       "(226, 131, 381, 1172)"
      ]
     },
     "execution_count": 27,
     "metadata": {},
     "output_type": "execute_result"
    }
   ],
   "source": [
    "tp, fp, fn, tn"
   ]
  },
  {
   "cell_type": "code",
   "execution_count": 28,
   "metadata": {
    "colab": {
     "base_uri": "https://localhost:8080/"
    },
    "id": "QKxFu656kjeQ",
    "outputId": "8663fa10-6e8b-435e-ce7d-387e541fb87c"
   },
   "outputs": [
    {
     "data": {
      "text/plain": [
       "0.7319371727748691"
      ]
     },
     "execution_count": 28,
     "metadata": {},
     "output_type": "execute_result"
    }
   ],
   "source": [
    "# какая точность получилась? по формуле посчитаем\n",
    "(tp + tn) / (tp + fp + fn + tn)"
   ]
  },
  {
   "cell_type": "code",
   "execution_count": 29,
   "metadata": {
    "colab": {
     "base_uri": "https://localhost:8080/"
    },
    "id": "jKc29HiykjeQ",
    "outputId": "b62e6d7e-d556-4073-cf1a-3e9ad0b2d540"
   },
   "outputs": [
    {
     "data": {
      "text/plain": [
       "0.6330532212885154"
      ]
     },
     "execution_count": 29,
     "metadata": {},
     "output_type": "execute_result"
    }
   ],
   "source": [
    "precision = tp / (tp + fp)\n",
    "precision"
   ]
  },
  {
   "cell_type": "code",
   "execution_count": 30,
   "metadata": {
    "colab": {
     "base_uri": "https://localhost:8080/"
    },
    "id": "dzR0520yg2X1",
    "outputId": "0b568f0d-a406-43cc-ff45-50be4e9443ea"
   },
   "outputs": [
    {
     "data": {
      "text/plain": [
       "0.3723228995057661"
      ]
     },
     "execution_count": 30,
     "metadata": {},
     "output_type": "execute_result"
    }
   ],
   "source": [
    "recall = tp / (tp + fn)\n",
    "recall"
   ]
  },
  {
   "cell_type": "code",
   "execution_count": 31,
   "metadata": {
    "id": "dVc1dDS1hhIk"
   },
   "outputs": [],
   "source": [
    "from sklearn.metrics import recall_score, precision_score"
   ]
  },
  {
   "cell_type": "code",
   "execution_count": 32,
   "metadata": {
    "colab": {
     "base_uri": "https://localhost:8080/"
    },
    "id": "0L5xHSguhxhz",
    "outputId": "bd0c62e0-b6e6-4f4f-8e9a-e4056ba06e53"
   },
   "outputs": [
    {
     "data": {
      "text/plain": [
       "0.4184514003294893"
      ]
     },
     "execution_count": 32,
     "metadata": {},
     "output_type": "execute_result"
    }
   ],
   "source": [
    "#Чтобы не всчитать вручную. Передаются верные значения и предсказанные \n",
    "recall_score(Y_test, pred)"
   ]
  },
  {
   "cell_type": "code",
   "execution_count": 33,
   "metadata": {
    "colab": {
     "base_uri": "https://localhost:8080/"
    },
    "id": "ZSbxPZPQhxwe",
    "outputId": "cb6c6934-6c09-4437-f7a7-9acd0a53c262"
   },
   "outputs": [
    {
     "data": {
      "text/plain": [
       "0.45276292335115864"
      ]
     },
     "execution_count": 33,
     "metadata": {},
     "output_type": "execute_result"
    }
   ],
   "source": [
    "precision_score(Y_test, pred)"
   ]
  },
  {
   "cell_type": "markdown",
   "metadata": {
    "id": "3dzm2qXfkjeT"
   },
   "source": [
    "### ROC"
   ]
  },
  {
   "cell_type": "code",
   "execution_count": 34,
   "metadata": {
    "id": "Kb-zypplkjeT"
   },
   "outputs": [],
   "source": [
    "# посчитаем ROC-кривую (Receiver Operating Characteristic)\n",
    "from sklearn.metrics import roc_curve"
   ]
  },
  {
   "cell_type": "code",
   "execution_count": 35,
   "metadata": {
    "id": "jlLgvyXYkjeU"
   },
   "outputs": [],
   "source": [
    "# получаем значения false и true positive rate для различных значений порога\n",
    "fpr, tpr, thres = roc_curve( Y_test, predictions[:, 1] )"
   ]
  },
  {
   "cell_type": "code",
   "execution_count": 36,
   "metadata": {
    "colab": {
     "base_uri": "https://localhost:8080/"
    },
    "id": "PGGDGeXkkjeU",
    "outputId": "09653f20-e10a-4579-8263-a395da8850ca"
   },
   "outputs": [
    {
     "name": "stdout",
     "output_type": "stream",
     "text": [
      "(0.0, 0.0, 1.9292091222420835)\n",
      "(0.0, 0.0016474464579901153, 0.9292091222420835)\n",
      "(0.0, 0.008237232289950576, 0.8999886299684129)\n",
      "(0.0007674597083653108, 0.008237232289950576, 0.8977304746321547)\n",
      "(0.0007674597083653108, 0.019769357495881382, 0.8650840072594413)\n",
      "(0.0030698388334612432, 0.019769357495881382, 0.8547129955950663)\n",
      "(0.0030698388334612432, 0.023064250411861616, 0.8544826993940541)\n",
      "(0.003837298541826554, 0.023064250411861616, 0.8521926986426596)\n",
      "(0.003837298541826554, 0.03130148270181219, 0.8338303345323416)\n",
      "(0.004604758250191865, 0.03130148270181219, 0.8336073175944853)\n"
     ]
    }
   ],
   "source": [
    "#ROC кривая считается по координатам. Возвращаться будут FPR, TPR и трешхолд, на котором было получено это значене \n",
    "#0 это значит, что значение было больше 1\n",
    "for line in zip( fpr[:10], tpr[:10], thres[:10] ):\n",
    "    print( line )\n",
    "    \n",
    "#FPR будет постоянно рости, TPR тоже растет, а порог смещается все меньше и меньше\n",
    "#на первой строчке мы сразу словили ошибку. по 0, а порог больше 1"
   ]
  },
  {
   "cell_type": "code",
   "execution_count": 37,
   "metadata": {
    "id": "1a-zFkYwRX7-"
   },
   "outputs": [],
   "source": [
    "import  matplotlib.pyplot as plt"
   ]
  },
  {
   "cell_type": "code",
   "execution_count": 38,
   "metadata": {
    "colab": {
     "base_uri": "https://localhost:8080/",
     "height": 265
    },
    "id": "-j5ae5IHkjeV",
    "outputId": "f161b550-82d2-4014-b9e0-4eef220df817"
   },
   "outputs": [
    {
     "data": {
      "image/png": "[encoded data removed]",
      "text/plain": [
       "<Figure size 432x288 with 1 Axes>"
      ]
     },
     "metadata": {
      "needs_background": "light"
     },
     "output_type": "display_data"
    }
   ],
   "source": [
    "#посмтрои график по тру и фолс позитив рейт\n",
    "#Плавно растет прямая. Не идел, но и не плохо совсем\n",
    "plt.plot( fpr, tpr )\n",
    "plt.grid()"
   ]
  },
  {
   "cell_type": "markdown",
   "metadata": {
    "id": "qvecHAsFkjeV"
   },
   "source": [
    "**Построим еще одну модель и сравним их между собой**"
   ]
  },
  {
   "cell_type": "code",
   "execution_count": null,
   "metadata": {
    "colab": {
     "base_uri": "https://localhost:8080/",
     "height": 204
    },
    "id": "s2lJMN0CkjeV",
    "outputId": "182d7571-1d16-4cf7-e9ec-8c9dbd811ad4"
   },
   "outputs": [
    {
     "data": {
      "text/html": [
       "<div>\n",
       "<style scoped>\n",
       "    .dataframe tbody tr th:only-of-type {\n",
       "        vertical-align: middle;\n",
       "    }\n",
       "\n",
       "    .dataframe tbody tr th {\n",
       "        vertical-align: top;\n",
       "    }\n",
       "\n",
       "    .dataframe thead th {\n",
       "        text-align: right;\n",
       "    }\n",
       "</style>\n",
       "<table border=\"1\" class=\"dataframe\">\n",
       "  <thead>\n",
       "    <tr style=\"text-align: right;\">\n",
       "      <th></th>\n",
       "      <th>age</th>\n",
       "      <th>children</th>\n",
       "    </tr>\n",
       "  </thead>\n",
       "  <tbody>\n",
       "    <tr>\n",
       "      <th>0</th>\n",
       "      <td>32.0</td>\n",
       "      <td>3.0</td>\n",
       "    </tr>\n",
       "    <tr>\n",
       "      <th>1</th>\n",
       "      <td>27.0</td>\n",
       "      <td>3.0</td>\n",
       "    </tr>\n",
       "    <tr>\n",
       "      <th>2</th>\n",
       "      <td>22.0</td>\n",
       "      <td>0.0</td>\n",
       "    </tr>\n",
       "    <tr>\n",
       "      <th>3</th>\n",
       "      <td>37.0</td>\n",
       "      <td>4.0</td>\n",
       "    </tr>\n",
       "    <tr>\n",
       "      <th>4</th>\n",
       "      <td>27.0</td>\n",
       "      <td>1.0</td>\n",
       "    </tr>\n",
       "  </tbody>\n",
       "</table>\n",
       "</div>"
      ],
      "text/plain": [
       "    age  children\n",
       "0  32.0       3.0\n",
       "1  27.0       3.0\n",
       "2  22.0       0.0\n",
       "3  37.0       4.0\n",
       "4  27.0       1.0"
      ]
     },
     "execution_count": 40,
     "metadata": {
      "tags": []
     },
     "output_type": "execute_result"
    }
   ],
   "source": [
    "#Посмтроим на ограниченном признаковом пространстве возраст и дети \n",
    "Xshort = X.loc[ :, ['age', 'children'] ]\n",
    "Xshort.head()"
   ]
  },
  {
   "cell_type": "code",
   "execution_count": null,
   "metadata": {
    "id": "-CMBfPFEkjeW"
   },
   "outputs": [],
   "source": [
    "#Будем использовать лог регрессию \n",
    "model2 = LogisticRegression()"
   ]
  },
  {
   "cell_type": "code",
   "execution_count": null,
   "metadata": {
    "id": "kw23goxZkjeW"
   },
   "outputs": [],
   "source": [
    "#Разделим наши два параметра на обучение и тест \n",
    "X_train_short, X_test_short, Y_train, Y_test = train_test_split( Xshort, Y, test_size = 0.3, random_state = 0 )"
   ]
  },
  {
   "cell_type": "code",
   "execution_count": null,
   "metadata": {
    "colab": {
     "base_uri": "https://localhost:8080/"
    },
    "id": "4dPGyZrhkjeW",
    "outputId": "9e5bd16a-5795-4e4f-ed0d-abced4241119"
   },
   "outputs": [
    {
     "data": {
      "text/plain": [
       "LogisticRegression(C=1.0, class_weight=None, dual=False, fit_intercept=True,\n",
       "                   intercept_scaling=1, l1_ratio=None, max_iter=100,\n",
       "                   multi_class='auto', n_jobs=None, penalty='l2',\n",
       "                   random_state=None, solver='lbfgs', tol=0.0001, verbose=0,\n",
       "                   warm_start=False)"
      ]
     },
     "execution_count": 43,
     "metadata": {
      "tags": []
     },
     "output_type": "execute_result"
    }
   ],
   "source": [
    "#Обучим модель\n",
    "model2.fit( X_train_short, Y_train )"
   ]
  },
  {
   "cell_type": "code",
   "execution_count": null,
   "metadata": {
    "id": "eU2_-bv2kjeW"
   },
   "outputs": [],
   "source": [
    "#Сделаем предсказания \n",
    "predictions2 = model2.predict_proba( X_test_short )"
   ]
  },
  {
   "cell_type": "code",
   "execution_count": null,
   "metadata": {
    "id": "B-f4wHEXkjeW"
   },
   "outputs": [],
   "source": [
    "#Получим наши значения тру, фолс позитив рейт и трешхолд, на котором они были получены \n",
    "fpr2, tpr2, thres2 = roc_curve( Y_test, predictions2[:, 1] )"
   ]
  },
  {
   "cell_type": "code",
   "execution_count": null,
   "metadata": {
    "colab": {
     "base_uri": "https://localhost:8080/",
     "height": 279
    },
    "id": "jdAjpLOPkjeX",
    "outputId": "fa5df5d1-5581-4f30-cac9-74a7837e6e35"
   },
   "outputs": [
    {
     "data": {
      "image/png": "[encoded data removed]",
      "text/plain": [
       "<Figure size 432x288 with 1 Axes>"
      ]
     },
     "metadata": {
      "needs_background": "light",
      "tags": []
     },
     "output_type": "display_data"
    }
   ],
   "source": [
    "#Построим два графика.Модель решающего дерева и по двум признакам, что получили недавно\n",
    "#Видим, что модель работает хуже, график ниже нашего первого \n",
    "\n",
    "plt.plot( fpr, tpr, label = 'All columns' )\n",
    "plt.plot( fpr2, tpr2, label = 'Age & children' )\n",
    "\n",
    "plt.xlabel('False Positive Rate')\n",
    "plt.ylabel('True Positive Rate')\n",
    "\n",
    "plt.legend( loc = 0 )\n",
    "plt.grid()\n",
    "plt.show()\n"
   ]
  },
  {
   "cell_type": "markdown",
   "metadata": {
    "id": "H5Uyp7gSkjeX"
   },
   "source": [
    "**Посчитаем площадь под ROC-кривой для двух моделей**"
   ]
  },
  {
   "cell_type": "code",
   "execution_count": null,
   "metadata": {
    "id": "KB8FA7YikjeX"
   },
   "outputs": [],
   "source": [
    "from sklearn.metrics import roc_curve"
   ]
  },
  {
   "cell_type": "code",
   "execution_count": null,
   "metadata": {
    "id": "ARCwepwckjeX"
   },
   "outputs": [],
   "source": [
    "from sklearn.metrics import roc_auc_score"
   ]
  },
  {
   "cell_type": "code",
   "execution_count": null,
   "metadata": {
    "colab": {
     "base_uri": "https://localhost:8080/"
    },
    "id": "vkzCSBJHkjeY",
    "outputId": "47963caf-a2b5-4c35-d72f-793e30f08e60"
   },
   "outputs": [
    {
     "data": {
      "text/plain": [
       "0.7451629176618145"
      ]
     },
     "execution_count": 49,
     "metadata": {
      "tags": []
     },
     "output_type": "execute_result"
    }
   ],
   "source": [
    "#Посчитаем площадь и поймем на цифрах модель. Дерево модель \n",
    "roc_auc_score( Y_test, predictions[:, 1] )"
   ]
  },
  {
   "cell_type": "code",
   "execution_count": null,
   "metadata": {
    "colab": {
     "base_uri": "https://localhost:8080/"
    },
    "id": "ZMrF59_ZkjeY",
    "outputId": "982d82be-3b7a-47fa-8b45-fd5494d18707"
   },
   "outputs": [
    {
     "data": {
      "text/plain": [
       "0.6311452091928271"
      ]
     },
     "execution_count": 50,
     "metadata": {
      "tags": []
     },
     "output_type": "execute_result"
    }
   ],
   "source": [
    "#Посчитаем площадь. Хуже эта модель \n",
    "roc_auc_score( Y_test, predictions2[:, 1] )"
   ]
  },
  {
   "cell_type": "markdown",
   "metadata": {
    "id": "5umaloKukjeY"
   },
   "source": [
    "Можно посчитать с помощью более общего метода auc\n",
    "\n",
    "Про разницу между ними https://stackoverflow.com/questions/31159157/different-result-with-roc-auc-score-and-auc"
   ]
  },
  {
   "cell_type": "code",
   "execution_count": null,
   "metadata": {
    "id": "P-GrYXXHkjeY"
   },
   "outputs": [],
   "source": [
    "from sklearn.metrics import auc"
   ]
  },
  {
   "cell_type": "code",
   "execution_count": null,
   "metadata": {
    "colab": {
     "base_uri": "https://localhost:8080/"
    },
    "id": "VzRrkHookjeZ",
    "outputId": "2a24845b-5977-48f5-ee56-462d289d3587"
   },
   "outputs": [
    {
     "data": {
      "text/plain": [
       "0.7451629176618145"
      ]
     },
     "execution_count": 52,
     "metadata": {
      "tags": []
     },
     "output_type": "execute_result"
    }
   ],
   "source": [
    "\n",
    "auc( fpr, tpr )"
   ]
  },
  {
   "cell_type": "code",
   "execution_count": null,
   "metadata": {
    "colab": {
     "base_uri": "https://localhost:8080/"
    },
    "id": "g3BHjIyAkjeZ",
    "outputId": "736cff1b-bf70-44bd-bca3-6826f02553fc"
   },
   "outputs": [
    {
     "data": {
      "text/plain": [
       "0.6311452091928271"
      ]
     },
     "execution_count": 53,
     "metadata": {
      "tags": []
     },
     "output_type": "execute_result"
    }
   ],
   "source": [
    "auc( fpr2, tpr2 )"
   ]
  },
  {
   "cell_type": "markdown",
   "metadata": {
    "id": "R3mQY0ngkjeR"
   },
   "source": [
    "### Используем готовые библиотеки"
   ]
  },
  {
   "cell_type": "code",
   "execution_count": null,
   "metadata": {
    "id": "Zb2ObpdykjeR"
   },
   "outputs": [],
   "source": [
    "# метод для построения графика precision-recall\n",
    "from sklearn.metrics import precision_recall_curve"
   ]
  },
  {
   "cell_type": "code",
   "execution_count": null,
   "metadata": {
    "id": "Mt623nFbkjeR"
   },
   "outputs": [],
   "source": [
    "#Получим наши значения precision и recall и трешхолд, на котором они были получены \n",
    "pr, re, thres = precision_recall_curve( Y_test, predictions[:, 1] )"
   ]
  },
  {
   "cell_type": "code",
   "execution_count": null,
   "metadata": {
    "colab": {
     "base_uri": "https://localhost:8080/"
    },
    "id": "IAoHkodhm3i1",
    "outputId": "dae87d68-48f8-4cdf-ca2c-c5fb02d4182e"
   },
   "outputs": [
    {
     "data": {
      "text/plain": [
       "((1669,), (1668,))"
      ]
     },
     "execution_count": 56,
     "metadata": {
      "tags": []
     },
     "output_type": "execute_result"
    }
   ],
   "source": [
    "pr.shape, thres.shape"
   ]
  },
  {
   "cell_type": "code",
   "execution_count": null,
   "metadata": {
    "colab": {
     "base_uri": "https://localhost:8080/"
    },
    "id": "llahQqWQkjeS",
    "outputId": "f1a726a0-bc69-4101-c086-965450916853"
   },
   "outputs": [
    {
     "name": "stdout",
     "output_type": "stream",
     "text": [
      "(0.32338838572189665, 1.0, 0.07582923251103321)\n",
      "(0.3230277185501066, 0.9983525535420099, 0.07617596157571913)\n",
      "(0.3232, 0.9983525535420099, 0.07800501586816877)\n",
      "(0.3233724653148346, 0.9983525535420099, 0.07833731223692608)\n",
      "(0.32354511478910836, 0.9983525535420099, 0.07858652846139304)\n",
      "(0.32371794871794873, 0.9983525535420099, 0.07969132533406419)\n",
      "(0.3238909673971138, 0.9983525535420099, 0.07987106574004733)\n",
      "(0.3240641711229946, 0.9983525535420099, 0.0803136757027235)\n",
      "(0.32423756019261635, 0.9983525535420099, 0.08053860905221413)\n",
      "(0.3238758029978587, 0.9967051070840197, 0.08068797247400258)\n"
     ]
    }
   ],
   "source": [
    "# посмотрим что получилось precision и recall и трешхолд\n",
    "for line in zip( pr[:10], re[:10], thres[:10] ):\n",
    "    print( line )"
   ]
  },
  {
   "cell_type": "code",
   "execution_count": null,
   "metadata": {
    "colab": {
     "base_uri": "https://localhost:8080/",
     "height": 286
    },
    "id": "1i74fb0smoV8",
    "outputId": "741baf7f-c0ed-4ae7-fda6-bdafe1c22005"
   },
   "outputs": [
    {
     "data": {
      "text/plain": [
       "(0.0, 1.0)"
      ]
     },
     "execution_count": 60,
     "metadata": {
      "tags": []
     },
     "output_type": "execute_result"
    },
    {
     "data": {
      "image/png": "[encoded data removed]",
      "text/plain": [
       "<Figure size 432x288 with 1 Axes>"
      ]
     },
     "metadata": {
      "needs_background": "light",
      "tags": []
     },
     "output_type": "display_data"
    }
   ],
   "source": [
    "#строим его \n",
    "plt.plot(pr,re)\n",
    "plt.grid()\n",
    "plt.xlim(0,1)\n",
    "plt.ylim(0,1)"
   ]
  },
  {
   "cell_type": "code",
   "execution_count": null,
   "metadata": {
    "id": "MxqbUEsjkjeS"
   },
   "outputs": [],
   "source": [
    "from sklearn.metrics import average_precision_score"
   ]
  },
  {
   "cell_type": "code",
   "execution_count": null,
   "metadata": {
    "colab": {
     "base_uri": "https://localhost:8080/"
    },
    "id": "aRVYif4bkjeT",
    "outputId": "67c77b6d-59c0-4bfb-b873-9053a8739d8b"
   },
   "outputs": [
    {
     "data": {
      "text/plain": [
       "0.5761322026533253"
      ]
     },
     "execution_count": 62,
     "metadata": {
      "tags": []
     },
     "output_type": "execute_result"
    }
   ],
   "source": [
    "# площадь под кривой\n",
    "average_precision_score( Y_test, predictions[:, 1] )"
   ]
  },
  {
   "cell_type": "markdown",
   "metadata": {
    "id": "E9-S9azc-xfT"
   },
   "source": [
    "### Разные разбиения -> разные результаты"
   ]
  },
  {
   "cell_type": "markdown",
   "metadata": {
    "id": "Ko_YNw_0kjeN"
   },
   "source": [
    "Построим набор моделей для значений random_state от 0 до 9. Получите model.score для каждого варианта."
   ]
  },
  {
   "cell_type": "code",
   "execution_count": null,
   "metadata": {
    "colab": {
     "base_uri": "https://localhost:8080/"
    },
    "id": "i8l_HqAzkjeO",
    "outputId": "2fd53edb-442a-4d7d-aa9d-6c3c8164f1cd"
   },
   "outputs": [
    {
     "name": "stdout",
     "output_type": "stream",
     "text": [
      "0: 0.7319371727748691\n",
      "1: 0.731413612565445\n",
      "2: 0.7172774869109948\n",
      "3: 0.7198952879581152\n",
      "4: 0.7136125654450262\n",
      "5: 0.7272251308900524\n",
      "6: 0.7136125654450262\n",
      "7: 0.7361256544502618\n",
      "8: 0.7162303664921466\n",
      "9: 0.7204188481675393\n"
     ]
    }
   ],
   "source": [
    "#Берем наши данные, запускаем трейн и сплит, в качестве значени random_state передаем значения от 0 до 10\n",
    "#Создаем лог регрессию, обучаем ее и пишим в model.score\n",
    "#Мы видим разные значения. \n",
    "\n",
    "for i in range(10):\n",
    "    X_train, X_test, Y_train, Y_test = train_test_split(X, Y, test_size = 0.3, random_state = i)\n",
    "    model = LogisticRegression()\n",
    "    model.fit(X_train, Y_train)\n",
    "    print(\"{}: {}\".format(i, model.score(X_test, Y_test)))"
   ]
  },
  {
   "cell_type": "code",
   "execution_count": 37,
   "metadata": {
    "colab": {
     "base_uri": "https://localhost:8080/"
    },
    "id": "2J3Navzt8SY-",
    "outputId": "5e7bc704-05a0-4bcb-f21a-507465394ddb"
   },
   "outputs": [
    {
     "name": "stderr",
     "output_type": "stream",
     "text": [
      "C:\\Users\\dubroars\\Anaconda3\\lib\\site-packages\\sklearn\\linear_model\\_logistic.py:762: ConvergenceWarning: lbfgs failed to converge (status=1):\n",
      "STOP: TOTAL NO. of ITERATIONS REACHED LIMIT.\n",
      "\n",
      "Increase the number of iterations (max_iter) or scale the data as shown in:\n",
      "    https://scikit-learn.org/stable/modules/preprocessing.html\n",
      "Please also refer to the documentation for alternative solver options:\n",
      "    https://scikit-learn.org/stable/modules/linear_model.html#logistic-regression\n",
      "  n_iter_i = _check_optimize_result(\n"
     ]
    },
    {
     "data": {
      "text/plain": [
       "(0.719478378122968,\n",
       " array([0.74097331, 0.72213501, 0.69858713, 0.72056515, 0.72955975,\n",
       "        0.70597484, 0.71855346]))"
      ]
     },
     "execution_count": 37,
     "metadata": {},
     "output_type": "execute_result"
    }
   ],
   "source": [
    "#Ф-я cross_val_score внутири себя берет модель, берет наши обучающие признаки, делит наши данные на части много раз\n",
    "#Смотрит качество работы модели и эти значения возвращает\n",
    "#Есть параметр cv=7 - это кол-во фолдов\n",
    "\n",
    "\n",
    "from sklearn.model_selection import cross_val_score\n",
    "\n",
    "scores = cross_val_score(model, X_train, Y_train, cv=7)\n",
    "scores.mean(), scores"
   ]
  },
  {
   "cell_type": "code",
   "execution_count": 38,
   "metadata": {
    "colab": {
     "base_uri": "https://localhost:8080/"
    },
    "id": "x0UdM_LF-G2r",
    "outputId": "097be402-f41f-445d-adf9-dd8502c82b23"
   },
   "outputs": [
    {
     "data": {
      "text/plain": [
       "(0.7208197567068535,\n",
       " array([0.74798387, 0.72121212, 0.70909091, 0.66464646, 0.73131313,\n",
       "        0.74141414, 0.71313131, 0.73535354, 0.72323232]))"
      ]
     },
     "execution_count": 38,
     "metadata": {},
     "output_type": "execute_result"
    }
   ],
   "source": [
    "#Распределение классов разное может быть и дизбаланс. Если есть класс очень маленький, то он может не попасть в обучение\n",
    "#Создаем объект в модуле model_selection тот самый KFold\n",
    "from sklearn.model_selection import KFold\n",
    "kf = KFold(n_splits=9)\n",
    "# задаем ему кол-во сплитов,на которые он будет делить наши данные \n",
    "#Далее объект kf передаем в функцию cross_val_score в cv. \n",
    "scores = cross_val_score(model, X_train, Y_train, cv=kf)\n",
    "\n",
    "scores.mean(), scores\n",
    "#Получаем, что усредненное качество совпадает с ниже StratifiedKFold, но дисперсия во втором случе сильнее, есть 0,69\n",
    "#было неудачное разбиение в составе класса. \n",
    "#Поэтому и хорошо использовать усредненное значние (первое 0,72), потому разные значения"
   ]
  },
  {
   "cell_type": "code",
   "execution_count": 39,
   "metadata": {
    "colab": {
     "base_uri": "https://localhost:8080/"
    },
    "id": "76D-RDmP9QU8",
    "outputId": "5ba1ef55-80a8-4bec-fe96-7318f873cf4a"
   },
   "outputs": [
    {
     "data": {
      "text/plain": [
       "(0.7214931573802542,\n",
       " array([0.74798387, 0.72323232, 0.71515152, 0.69494949, 0.72323232,\n",
       "        0.75151515, 0.7030303 , 0.72525253, 0.70909091]))"
      ]
     },
     "execution_count": 39,
     "metadata": {},
     "output_type": "execute_result"
    }
   ],
   "source": [
    "#В каждом обучении будут всегда присутствовать все классы, так как будет брать из каждого класса значения. Это плюс\n",
    "#В тестовых данных распределение классов может быть другим и модель не поймет и не среагировать не дизбаланс класов\n",
    "\n",
    "\n",
    "from sklearn.model_selection import StratifiedKFold\n",
    "skf = StratifiedKFold(n_splits=9)\n",
    "\n",
    "scores = cross_val_score(model, X_train, Y_train, cv=skf)\n",
    "\n",
    "scores.mean(), scores"
   ]
  },
  {
   "cell_type": "markdown",
   "metadata": {
    "id": "ss7l81dMkjeZ"
   },
   "source": [
    "## Пример влияния L1 и L2-регуляризации"
   ]
  },
  {
   "cell_type": "code",
   "execution_count": null,
   "metadata": {
    "id": "6YlZcJ95kjeZ"
   },
   "outputs": [],
   "source": [
    "model1 = LogisticRegression( penalty = 'l1', C = 0.01, solver='liblinear' ).fit( X_train, Y_train )\n",
    "predictions = model1.predict_proba( X_test )"
   ]
  },
  {
   "cell_type": "code",
   "execution_count": null,
   "metadata": {
    "id": "VwW-xryBkjea"
   },
   "outputs": [],
   "source": [
    "model2 = LogisticRegression( penalty = 'l2', C = 0.1, solver='liblinear' ).fit( X_train, Y_train )\n",
    "predictions2 = model2.predict_proba( X_test )"
   ]
  },
  {
   "cell_type": "code",
   "execution_count": null,
   "metadata": {
    "id": "WOX8poLzkjea"
   },
   "outputs": [],
   "source": [
    "model3 = LogisticRegression( penalty = 'l2', C = 1, solver='liblinear' ).fit( X_train, Y_train )\n",
    "predictions3 = model3.predict_proba( X_test )"
   ]
  },
  {
   "cell_type": "code",
   "execution_count": null,
   "metadata": {
    "id": "bXoMmN9dkjea"
   },
   "outputs": [],
   "source": [
    "fpr, tpr, thres = roc_curve( Y_test, predictions[:, 1] )\n",
    "fpr2, tpr2, thres2 = roc_curve( Y_test, predictions2[:, 1] )\n",
    "fpr3, tpr3, thres3 = roc_curve( Y_test, predictions3[:, 1] )"
   ]
  },
  {
   "cell_type": "code",
   "execution_count": null,
   "metadata": {
    "colab": {
     "base_uri": "https://localhost:8080/",
     "height": 279
    },
    "id": "VPzDDQzokjea",
    "outputId": "1567fbc8-4efa-4e7b-ebc5-62786ad91955"
   },
   "outputs": [
    {
     "data": {
      "image/png": "[encoded data removed]",
      "text/plain": [
       "<Figure size 432x288 with 1 Axes>"
      ]
     },
     "metadata": {
      "tags": []
     },
     "output_type": "display_data"
    }
   ],
   "source": [
    "plt.plot( fpr, tpr, label = 'l1' )\n",
    "plt.plot( fpr2, tpr2, label = 'l2' )\n",
    "plt.plot( fpr3, tpr3, label = 'C=1' )\n",
    "\n",
    "plt.xlabel('False Positive Rate')\n",
    "plt.ylabel('True Positive Rate')\n",
    "\n",
    "plt.legend( loc = 0 )\n",
    "plt.show()"
   ]
  },
  {
   "cell_type": "markdown",
   "metadata": {
    "id": "HcM58XT5kjea"
   },
   "source": [
    "**Построим еще одну модель, используя другие признаки**"
   ]
  },
  {
   "cell_type": "code",
   "execution_count": null,
   "metadata": {
    "colab": {
     "base_uri": "https://localhost:8080/",
     "height": 224
    },
    "id": "1xoWxHo9kjeb",
    "outputId": "04957c6a-fccc-42a0-82cc-57f8b811e04a"
   },
   "outputs": [
    {
     "data": {
      "text/html": [
       "<div>\n",
       "<style scoped>\n",
       "    .dataframe tbody tr th:only-of-type {\n",
       "        vertical-align: middle;\n",
       "    }\n",
       "\n",
       "    .dataframe tbody tr th {\n",
       "        vertical-align: top;\n",
       "    }\n",
       "\n",
       "    .dataframe thead th {\n",
       "        text-align: right;\n",
       "    }\n",
       "</style>\n",
       "<table border=\"1\" class=\"dataframe\">\n",
       "  <thead>\n",
       "    <tr style=\"text-align: right;\">\n",
       "      <th></th>\n",
       "      <th>age_17.5</th>\n",
       "      <th>age_22.0</th>\n",
       "      <th>age_27.0</th>\n",
       "      <th>age_32.0</th>\n",
       "      <th>age_37.0</th>\n",
       "      <th>age_42.0</th>\n",
       "      <th>children_0.0</th>\n",
       "      <th>children_1.0</th>\n",
       "      <th>children_2.0</th>\n",
       "      <th>children_3.0</th>\n",
       "      <th>children_4.0</th>\n",
       "      <th>children_5.5</th>\n",
       "    </tr>\n",
       "  </thead>\n",
       "  <tbody>\n",
       "    <tr>\n",
       "      <th>0</th>\n",
       "      <td>0</td>\n",
       "      <td>0</td>\n",
       "      <td>0</td>\n",
       "      <td>1</td>\n",
       "      <td>0</td>\n",
       "      <td>0</td>\n",
       "      <td>0</td>\n",
       "      <td>0</td>\n",
       "      <td>0</td>\n",
       "      <td>1</td>\n",
       "      <td>0</td>\n",
       "      <td>0</td>\n",
       "    </tr>\n",
       "    <tr>\n",
       "      <th>1</th>\n",
       "      <td>0</td>\n",
       "      <td>0</td>\n",
       "      <td>1</td>\n",
       "      <td>0</td>\n",
       "      <td>0</td>\n",
       "      <td>0</td>\n",
       "      <td>0</td>\n",
       "      <td>0</td>\n",
       "      <td>0</td>\n",
       "      <td>1</td>\n",
       "      <td>0</td>\n",
       "      <td>0</td>\n",
       "    </tr>\n",
       "    <tr>\n",
       "      <th>2</th>\n",
       "      <td>0</td>\n",
       "      <td>1</td>\n",
       "      <td>0</td>\n",
       "      <td>0</td>\n",
       "      <td>0</td>\n",
       "      <td>0</td>\n",
       "      <td>1</td>\n",
       "      <td>0</td>\n",
       "      <td>0</td>\n",
       "      <td>0</td>\n",
       "      <td>0</td>\n",
       "      <td>0</td>\n",
       "    </tr>\n",
       "    <tr>\n",
       "      <th>3</th>\n",
       "      <td>0</td>\n",
       "      <td>0</td>\n",
       "      <td>0</td>\n",
       "      <td>0</td>\n",
       "      <td>1</td>\n",
       "      <td>0</td>\n",
       "      <td>0</td>\n",
       "      <td>0</td>\n",
       "      <td>0</td>\n",
       "      <td>0</td>\n",
       "      <td>1</td>\n",
       "      <td>0</td>\n",
       "    </tr>\n",
       "    <tr>\n",
       "      <th>4</th>\n",
       "      <td>0</td>\n",
       "      <td>0</td>\n",
       "      <td>1</td>\n",
       "      <td>0</td>\n",
       "      <td>0</td>\n",
       "      <td>0</td>\n",
       "      <td>0</td>\n",
       "      <td>1</td>\n",
       "      <td>0</td>\n",
       "      <td>0</td>\n",
       "      <td>0</td>\n",
       "      <td>0</td>\n",
       "    </tr>\n",
       "  </tbody>\n",
       "</table>\n",
       "</div>"
      ],
      "text/plain": [
       "   age_17.5  age_22.0  age_27.0  ...  children_3.0  children_4.0  children_5.5\n",
       "0         0         0         0  ...             1             0             0\n",
       "1         0         0         1  ...             1             0             0\n",
       "2         0         1         0  ...             0             0             0\n",
       "3         0         0         0  ...             0             1             0\n",
       "4         0         0         1  ...             0             0             0\n",
       "\n",
       "[5 rows x 12 columns]"
      ]
     },
     "execution_count": 48,
     "metadata": {
      "tags": []
     },
     "output_type": "execute_result"
    }
   ],
   "source": [
    "Xshort = pd.get_dummies( data.loc[ :, ['age', 'children'] ], columns = ['age', 'children'] )\n",
    "Xshort.head()"
   ]
  },
  {
   "cell_type": "code",
   "execution_count": null,
   "metadata": {
    "id": "11xzXmVRkjeb"
   },
   "outputs": [],
   "source": [
    "Y = data['affair']"
   ]
  },
  {
   "cell_type": "code",
   "execution_count": null,
   "metadata": {
    "id": "-cqMwESQkjeb"
   },
   "outputs": [],
   "source": [
    "X_train, X_test, Y_train, Y_test = train_test_split( Xshort, Y, test_size = 0.3, random_state = 0 )"
   ]
  },
  {
   "cell_type": "code",
   "execution_count": null,
   "metadata": {
    "id": "zbhO8U0ekjeb"
   },
   "outputs": [],
   "source": [
    "model1 = LogisticRegression( penalty = 'l1', C = 0.01, solver='liblinear' ).fit( X_train, Y_train )\n",
    "model2 = LogisticRegression( penalty = 'l2', C = 0.1, solver='liblinear' ).fit( X_train, Y_train )\n",
    "model3 = LogisticRegression( penalty = 'l2', C = 1, solver='liblinear' ).fit( X_train, Y_train )"
   ]
  },
  {
   "cell_type": "code",
   "execution_count": null,
   "metadata": {
    "id": "lukGLx7Akjeb"
   },
   "outputs": [],
   "source": [
    "predictions = model1.predict_proba( X_test )\n",
    "predictions2 = model2.predict_proba( X_test )\n",
    "predictions3 = model3.predict_proba( X_test )"
   ]
  },
  {
   "cell_type": "code",
   "execution_count": null,
   "metadata": {
    "id": "5fqPbz8dkjec"
   },
   "outputs": [],
   "source": [
    "fpr, tpr, thres = roc_curve( Y_test, predictions[:, 1] )\n",
    "fpr2, tpr2, thres2 = roc_curve( Y_test, predictions2[:, 1] )\n",
    "fpr3, tpr3, thres3 = roc_curve( Y_test, predictions3[:, 1] )"
   ]
  },
  {
   "cell_type": "code",
   "execution_count": null,
   "metadata": {
    "colab": {
     "base_uri": "https://localhost:8080/",
     "height": 279
    },
    "id": "Rg1RLWihkjec",
    "outputId": "a50db8e5-893f-43c5-b522-e597a64492f8"
   },
   "outputs": [
    {
     "data": {
      "image/png": "[encoded data removed]",
      "text/plain": [
       "<Figure size 432x288 with 1 Axes>"
      ]
     },
     "metadata": {
      "tags": []
     },
     "output_type": "display_data"
    }
   ],
   "source": [
    "plt.plot( fpr, tpr, label = 'l1' )\n",
    "plt.plot( fpr2, tpr2, label = 'l2' )\n",
    "plt.plot( fpr3, tpr3, label = 'C=1' )\n",
    "\n",
    "plt.xlabel('False Positive Rate')\n",
    "plt.ylabel('True Positive Rate')\n",
    "\n",
    "plt.legend( loc = 0 )\n",
    "plt.show()"
   ]
  },
  {
   "cell_type": "code",
   "execution_count": null,
   "metadata": {
    "id": "tLW-iRbZkjec"
   },
   "outputs": [],
   "source": []
  }
 ],
 "metadata": {
  "colab": {
   "collapsed_sections": [
    "3dzm2qXfkjeT",
    "R3mQY0ngkjeR",
    "E9-S9azc-xfT"
   ],
   "name": "Logres_affair.ipynb",
   "provenance": []
  },
  "kernelspec": {
   "display_name": "Python 3",
   "language": "python",
   "name": "python3"
  },
  "language_info": {
   "codemirror_mode": {
    "name": "ipython",
    "version": 3
   },
   "file_extension": ".py",
   "mimetype": "text/x-python",
   "name": "python",
   "nbconvert_exporter": "python",
   "pygments_lexer": "ipython3",
   "version": "3.8.8"
  }
 },
 "nbformat": 4,
 "nbformat_minor": 1
}
